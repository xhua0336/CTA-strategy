{
 "cells": [
  {
   "cell_type": "code",
   "execution_count": 1,
   "metadata": {
    "hide_input": true,
    "lines_to_next_cell": 0
   },
   "outputs": [],
   "source": [
    "# Essentials\n",
    "import gc\n",
    "import numpy as np\n",
    "import pandas as pd\n",
    "import datetime\n",
    "import random\n",
    "import warnings\n",
    "import string\n",
    "from skopt.space import Real, Categorical, Integer\n",
    "warnings.filterwarnings(\"ignore\")\n",
    "import functools\n",
    "import dask\n",
    "import os\n",
    "CORE_NUM = int(os.environ['NUMBER_OF_PROCESSORS'])\n",
    "\n",
    "# Plots\n",
    "import seaborn as sns\n",
    "import matplotlib.pyplot as plt\n",
    "\n",
    "# Models\n",
    "from sklearn.ensemble import RandomForestRegressor\n",
    "\n",
    "# Stats\n",
    "from scipy.stats import skew, norm\n",
    "from scipy.special import boxcox1p\n",
    "from scipy.stats import boxcox_normmax\n",
    "from scipy import stats\n",
    "import statsmodels.api as sm\n",
    "import statsmodels.formula.api as smf\n",
    "\n",
    "# Tools and metrics\n",
    "from sklearn.model_selection import GridSearchCV, RandomizedSearchCV\n",
    "from sklearn.model_selection import KFold, cross_val_score\n",
    "from sklearn.preprocessing import OneHotEncoder\n",
    "from sklearn.preprocessing import LabelEncoder\n",
    "from sklearn.pipeline import make_pipeline\n",
    "from sklearn.preprocessing import scale\n",
    "from sklearn.preprocessing import StandardScaler\n",
    "from sklearn.preprocessing import RobustScaler\n",
    "from sklearn.decomposition import PCA\n",
    "from sklearn.model_selection import train_test_split\n",
    "from sklearn.metrics import mean_squared_error, r2_score,  mean_absolute_error\n",
    "from sklearn.preprocessing import PowerTransformer\n",
    "from skopt import BayesSearchCV\n",
    "\n",
    "#bbq packages\n",
    "import helper as hp\n",
    "import stats\n",
    "import product_info as pi"
   ]
  },
  {
   "cell_type": "code",
   "execution_count": 2,
   "metadata": {
    "hide_input": true
   },
   "outputs": [],
   "source": [
    "# Purge 交叉验证函数\n",
    "# TODO: make GitHub GIST\n",
    "# TODO: add as dataset\n",
    "# TODO: add logging with verbose\n",
    "\n",
    "import numpy as np\n",
    "from sklearn.model_selection import KFold\n",
    "from sklearn.model_selection._split import _BaseKFold, indexable, _num_samples\n",
    "from sklearn.utils.validation import _deprecate_positional_args\n",
    "\n",
    "# modified code for group gaps; source\n",
    "# https://github.com/getgaurav2/scikit-learn/blob/d4a3af5cc9da3a76f0266932644b884c99724c57/sklearn/model_selection/_split.py#L2243\n",
    "class PurgedGroupTimeSeriesSplit(_BaseKFold):\n",
    "    \"\"\"Time Series cross-validator variant with non-overlapping groups.\n",
    "    Allows for a gap in groups to avoid potentially leaking info from\n",
    "    train into test if the model has windowed or lag features.\n",
    "    Provides train/test indices to split time series data samples\n",
    "    that are observed at fixed time intervals according to a\n",
    "    third-party provided group.\n",
    "    In each split, test indices must be higher than before, and thus shuffling\n",
    "    in cross validator is inappropriate.\n",
    "    This cross-validation object is a variation of :class:`KFold`.\n",
    "    In the kth split, it returns first k folds as train set and the\n",
    "    (k+1)th fold as test set.\n",
    "    The same group will not appear in two different folds (the number of\n",
    "    distinct groups has to be at least equal to the number of folds).\n",
    "    Note that unlike standard cross-validation methods, successive\n",
    "    training sets are supersets of those that come before them.\n",
    "    Read more in the :ref:`User Guide <cross_validation>`.\n",
    "    Parameters\n",
    "    ----------\n",
    "    n_splits : int, default=5\n",
    "        Number of splits. Must be at least 2.\n",
    "    max_train_group_size : int, default=Inf\n",
    "        Maximum group size for a single training set.\n",
    "    group_gap : int, default=None\n",
    "        Gap between train and test\n",
    "    max_test_group_size : int, default=Inf\n",
    "        We discard this number of groups from the end of each train split\n",
    "    \"\"\"\n",
    "\n",
    "    @_deprecate_positional_args\n",
    "    def __init__(self,\n",
    "                 n_splits=5,\n",
    "                 *,\n",
    "                 max_train_group_size=np.inf,\n",
    "                 max_test_group_size=np.inf,\n",
    "                 group_gap=None,\n",
    "                 verbose=False\n",
    "                 ):\n",
    "        super().__init__(n_splits, shuffle=False, random_state=None)\n",
    "        self.max_train_group_size = max_train_group_size\n",
    "        self.group_gap = group_gap\n",
    "        self.max_test_group_size = max_test_group_size\n",
    "        self.verbose = verbose\n",
    "\n",
    "    def split(self, X, y=None, groups=None):\n",
    "        \"\"\"Generate indices to split data into training and test set.\n",
    "        Parameters\n",
    "        ----------\n",
    "        X : array-like of shape (n_samples, n_features)\n",
    "            Training data, where n_samples is the number of samples\n",
    "            and n_features is the number of features.\n",
    "        y : array-like of shape (n_samples,)\n",
    "            Always ignored, exists for compatibility.\n",
    "        groups : array-like of shape (n_samples,)\n",
    "            Group labels for the samples used while splitting the dataset into\n",
    "            train/test set.\n",
    "        Yields\n",
    "        ------\n",
    "        train : ndarray\n",
    "            The training set indices for that split.\n",
    "        test : ndarray\n",
    "            The testing set indices for that split.\n",
    "        \"\"\"\n",
    "        if groups is None:\n",
    "            raise ValueError(\n",
    "                \"The 'groups' parameter should not be None\")\n",
    "        X, y, groups = indexable(X, y, groups)\n",
    "        n_samples = _num_samples(X)\n",
    "        n_splits = self.n_splits\n",
    "        group_gap = self.group_gap\n",
    "        max_test_group_size = self.max_test_group_size\n",
    "        max_train_group_size = self.max_train_group_size\n",
    "        n_folds = n_splits + 1\n",
    "        group_dict = {}\n",
    "        u, ind = np.unique(groups, return_index=True)\n",
    "        unique_groups = u[np.argsort(ind)]\n",
    "        n_samples = _num_samples(X)\n",
    "        n_groups = _num_samples(unique_groups)\n",
    "        for idx in np.arange(n_samples):\n",
    "            if (groups[idx] in group_dict):\n",
    "                group_dict[groups[idx]].append(idx)\n",
    "            else:\n",
    "                group_dict[groups[idx]] = [idx]\n",
    "        if n_folds > n_groups:\n",
    "            raise ValueError(\n",
    "                (\"Cannot have number of folds={0} greater than\"\n",
    "                 \" the number of groups={1}\").format(n_folds,\n",
    "                                                     n_groups))\n",
    "\n",
    "        group_test_size = min(n_groups // n_folds, max_test_group_size)\n",
    "        group_test_starts = range(n_groups - n_splits * group_test_size,\n",
    "                                  n_groups, group_test_size)\n",
    "        for group_test_start in group_test_starts:\n",
    "            train_array = []\n",
    "            test_array = []\n",
    "\n",
    "            group_st = max(0, group_test_start - group_gap - max_train_group_size)\n",
    "            for train_group_idx in unique_groups[group_st:(group_test_start - group_gap)]:\n",
    "                train_array_tmp = group_dict[train_group_idx]\n",
    "                \n",
    "                train_array = np.sort(np.unique(\n",
    "                                      np.concatenate((train_array,\n",
    "                                                      train_array_tmp)),\n",
    "                                      axis=None), axis=None)\n",
    "\n",
    "            train_end = train_array.size\n",
    " \n",
    "            for test_group_idx in unique_groups[group_test_start:\n",
    "                                                group_test_start +\n",
    "                                                group_test_size]:\n",
    "                test_array_tmp = group_dict[test_group_idx]\n",
    "                test_array = np.sort(np.unique(\n",
    "                                              np.concatenate((test_array,\n",
    "                                                              test_array_tmp)),\n",
    "                                     axis=None), axis=None)\n",
    "\n",
    "            test_array  = test_array[group_gap:]\n",
    "            \n",
    "            \n",
    "            if self.verbose > 0:\n",
    "                    pass\n",
    "                    \n",
    "            yield [int(i) for i in train_array], [int(i) for i in test_array]"
   ]
  },
  {
   "cell_type": "code",
   "execution_count": 3,
   "metadata": {
    "hide_input": true
   },
   "outputs": [],
   "source": [
    "from matplotlib.colors import ListedColormap\n",
    "import numpy as np\n",
    "import matplotlib.pyplot as plt\n",
    "    \n",
    "# this is code slightly modified from the sklearn docs here:\n",
    "# https://scikit-learn.org/stable/auto_examples/model_selection/plot_cv_indices.html#sphx-glr-auto-examples-model-selection-plot-cv-indices-py\n",
    "def plot_cv_indices(cv, X, y, group, ax, n_splits, lw=10):\n",
    "    \"\"\"Create a sample plot for indices of a cross-validation object.\"\"\"\n",
    "    \n",
    "    cmap_cv = plt.cm.coolwarm\n",
    "\n",
    "    jet = plt.cm.get_cmap('jet', 256)\n",
    "    seq = np.linspace(0, 1, 256)\n",
    "    _ = np.random.shuffle(seq)   # inplace\n",
    "    cmap_data = ListedColormap(jet(seq))\n",
    "\n",
    "    # Generate the training/testing visualizations for each CV split\n",
    "    for ii, (tr, tt) in enumerate(cv.split(X=X, y=y, groups=group)):\n",
    "        # Fill in indices with the training/test groups\n",
    "        indices = np.array([np.nan] * len(X))\n",
    "        indices[tt] = 1\n",
    "        indices[tr] = 0\n",
    "\n",
    "        # Visualize the results\n",
    "        ax.scatter(range(len(indices)), [ii + .5] * len(indices),\n",
    "                   c=indices, marker='_', lw=lw, cmap=cmap_cv,\n",
    "                   vmin=-.2, vmax=1.2)\n",
    "\n",
    "    # Plot the data classes and groups at the end\n",
    "    ax.scatter(range(len(X)), [ii + 1.5] * len(X),\n",
    "               c=y, marker='_', lw=lw, cmap=plt.cm.Set3)\n",
    "\n",
    "    ax.scatter(range(len(X)), [ii + 2.5] * len(X),\n",
    "               c=group, marker='_', lw=lw, cmap=cmap_data)\n",
    "\n",
    "    # Formatting\n",
    "    yticklabels = list(range(n_splits)) + ['target', 'day']\n",
    "    ax.set(yticks=np.arange(n_splits+2) + .5, yticklabels=yticklabels,\n",
    "           xlabel='Sample index', ylabel=\"CV iteration\",\n",
    "           ylim=[n_splits+2.2, -.2], xlim=[0, len(y)])\n",
    "    ax.set_title('{}'.format(type(cv).__name__), fontsize=15)\n",
    "    return ax"
   ]
  },
  {
   "cell_type": "markdown",
   "metadata": {},
   "source": [
    "# 1 数据处理"
   ]
  },
  {
   "cell_type": "markdown",
   "metadata": {},
   "source": [
    "## 1.1读取数据"
   ]
  },
  {
   "cell_type": "code",
   "execution_count": 4,
   "metadata": {
    "hide_input": true,
    "lines_to_next_cell": 2
   },
   "outputs": [],
   "source": [
    "data = pd.read_csv(\"ag2012.csv\",index_col='Unnamed: 0')"
   ]
  },
  {
   "cell_type": "markdown",
   "metadata": {},
   "source": [
    "数据有74684行，125列"
   ]
  },
  {
   "cell_type": "code",
   "execution_count": 5,
   "metadata": {
    "hide_input": true
   },
   "outputs": [
    {
     "data": {
      "text/plain": [
       "(74684, 124)"
      ]
     },
     "execution_count": 5,
     "metadata": {},
     "output_type": "execute_result"
    }
   ],
   "source": [
    "data.shape"
   ]
  },
  {
   "cell_type": "code",
   "execution_count": 7,
   "metadata": {
    "hide_input": true
   },
   "outputs": [
    {
     "data": {
      "text/html": [
       "<div>\n",
       "<style scoped>\n",
       "    .dataframe tbody tr th:only-of-type {\n",
       "        vertical-align: middle;\n",
       "    }\n",
       "\n",
       "    .dataframe tbody tr th {\n",
       "        vertical-align: top;\n",
       "    }\n",
       "\n",
       "    .dataframe thead th {\n",
       "        text-align: right;\n",
       "    }\n",
       "</style>\n",
       "<table border=\"1\" class=\"dataframe\">\n",
       "  <thead>\n",
       "    <tr style=\"text-align: right;\">\n",
       "      <th></th>\n",
       "      <th>Unnamed: 0.1</th>\n",
       "      <th>Unnamed: 0.1.1</th>\n",
       "      <th>Time</th>\n",
       "      <th>OpenPrice</th>\n",
       "      <th>HighPrice</th>\n",
       "      <th>LowPrice</th>\n",
       "      <th>ClosePrice</th>\n",
       "      <th>VWAP</th>\n",
       "      <th>TWAP</th>\n",
       "      <th>ModePrice</th>\n",
       "      <th>...</th>\n",
       "      <th>ExtraTA_CDLSPINNINGTOP</th>\n",
       "      <th>ExtraTA_CDLSTALLEDPATTERN</th>\n",
       "      <th>ExtraTA_CDLSTICKSANDWICH</th>\n",
       "      <th>ExtraTA_CDLTAKURI</th>\n",
       "      <th>ExtraTA_CDLTASUKIGAP</th>\n",
       "      <th>ExtraTA_CDLTHRUSTING</th>\n",
       "      <th>ExtraTA_CDLTRISTAR</th>\n",
       "      <th>ExtraTA_CDLUNIQUE3RIVER</th>\n",
       "      <th>ExtraTA_CDLUPSIDEGAP2CROWS</th>\n",
       "      <th>ExtraTA_CDLXSIDEGAP3METHODS</th>\n",
       "    </tr>\n",
       "  </thead>\n",
       "  <tbody>\n",
       "    <tr>\n",
       "      <th>74679</th>\n",
       "      <td>74679</td>\n",
       "      <td>549</td>\n",
       "      <td>2.020112e+13</td>\n",
       "      <td>4897.5</td>\n",
       "      <td>4897.5</td>\n",
       "      <td>4894.5</td>\n",
       "      <td>4894.5</td>\n",
       "      <td>4895.448017</td>\n",
       "      <td>4895.350000</td>\n",
       "      <td>4895</td>\n",
       "      <td>...</td>\n",
       "      <td>0</td>\n",
       "      <td>0</td>\n",
       "      <td>0</td>\n",
       "      <td>0</td>\n",
       "      <td>0</td>\n",
       "      <td>0</td>\n",
       "      <td>0</td>\n",
       "      <td>0</td>\n",
       "      <td>0</td>\n",
       "      <td>0</td>\n",
       "    </tr>\n",
       "    <tr>\n",
       "      <th>74680</th>\n",
       "      <td>74680</td>\n",
       "      <td>550</td>\n",
       "      <td>2.020112e+13</td>\n",
       "      <td>4894.5</td>\n",
       "      <td>4895.5</td>\n",
       "      <td>4892.5</td>\n",
       "      <td>4892.5</td>\n",
       "      <td>4894.184641</td>\n",
       "      <td>4894.116667</td>\n",
       "      <td>4894</td>\n",
       "      <td>...</td>\n",
       "      <td>0</td>\n",
       "      <td>0</td>\n",
       "      <td>0</td>\n",
       "      <td>0</td>\n",
       "      <td>0</td>\n",
       "      <td>0</td>\n",
       "      <td>0</td>\n",
       "      <td>0</td>\n",
       "      <td>0</td>\n",
       "      <td>0</td>\n",
       "    </tr>\n",
       "    <tr>\n",
       "      <th>74681</th>\n",
       "      <td>74681</td>\n",
       "      <td>551</td>\n",
       "      <td>2.020112e+13</td>\n",
       "      <td>4893.5</td>\n",
       "      <td>4897.5</td>\n",
       "      <td>4892.5</td>\n",
       "      <td>4897.5</td>\n",
       "      <td>4895.466537</td>\n",
       "      <td>4895.566667</td>\n",
       "      <td>4897</td>\n",
       "      <td>...</td>\n",
       "      <td>0</td>\n",
       "      <td>0</td>\n",
       "      <td>0</td>\n",
       "      <td>0</td>\n",
       "      <td>0</td>\n",
       "      <td>0</td>\n",
       "      <td>0</td>\n",
       "      <td>0</td>\n",
       "      <td>0</td>\n",
       "      <td>0</td>\n",
       "    </tr>\n",
       "    <tr>\n",
       "      <th>74682</th>\n",
       "      <td>74682</td>\n",
       "      <td>552</td>\n",
       "      <td>2.020112e+13</td>\n",
       "      <td>4897.5</td>\n",
       "      <td>4899.5</td>\n",
       "      <td>4897.5</td>\n",
       "      <td>4899.5</td>\n",
       "      <td>4898.937931</td>\n",
       "      <td>4899.016667</td>\n",
       "      <td>4899</td>\n",
       "      <td>...</td>\n",
       "      <td>0</td>\n",
       "      <td>0</td>\n",
       "      <td>0</td>\n",
       "      <td>0</td>\n",
       "      <td>0</td>\n",
       "      <td>0</td>\n",
       "      <td>0</td>\n",
       "      <td>0</td>\n",
       "      <td>0</td>\n",
       "      <td>0</td>\n",
       "    </tr>\n",
       "    <tr>\n",
       "      <th>74683</th>\n",
       "      <td>74683</td>\n",
       "      <td>553</td>\n",
       "      <td>2.020112e+13</td>\n",
       "      <td>4899.5</td>\n",
       "      <td>4900.5</td>\n",
       "      <td>4898.5</td>\n",
       "      <td>4898.5</td>\n",
       "      <td>4899.523593</td>\n",
       "      <td>4899.333333</td>\n",
       "      <td>4899</td>\n",
       "      <td>...</td>\n",
       "      <td>0</td>\n",
       "      <td>0</td>\n",
       "      <td>0</td>\n",
       "      <td>0</td>\n",
       "      <td>0</td>\n",
       "      <td>0</td>\n",
       "      <td>0</td>\n",
       "      <td>0</td>\n",
       "      <td>0</td>\n",
       "      <td>0</td>\n",
       "    </tr>\n",
       "  </tbody>\n",
       "</table>\n",
       "<p>5 rows × 124 columns</p>\n",
       "</div>"
      ],
      "text/plain": [
       "       Unnamed: 0.1  Unnamed: 0.1.1          Time  OpenPrice  HighPrice  \\\n",
       "74679         74679             549  2.020112e+13     4897.5     4897.5   \n",
       "74680         74680             550  2.020112e+13     4894.5     4895.5   \n",
       "74681         74681             551  2.020112e+13     4893.5     4897.5   \n",
       "74682         74682             552  2.020112e+13     4897.5     4899.5   \n",
       "74683         74683             553  2.020112e+13     4899.5     4900.5   \n",
       "\n",
       "       LowPrice  ClosePrice         VWAP         TWAP  ModePrice  ...  \\\n",
       "74679    4894.5      4894.5  4895.448017  4895.350000       4895  ...   \n",
       "74680    4892.5      4892.5  4894.184641  4894.116667       4894  ...   \n",
       "74681    4892.5      4897.5  4895.466537  4895.566667       4897  ...   \n",
       "74682    4897.5      4899.5  4898.937931  4899.016667       4899  ...   \n",
       "74683    4898.5      4898.5  4899.523593  4899.333333       4899  ...   \n",
       "\n",
       "       ExtraTA_CDLSPINNINGTOP  ExtraTA_CDLSTALLEDPATTERN  \\\n",
       "74679                       0                          0   \n",
       "74680                       0                          0   \n",
       "74681                       0                          0   \n",
       "74682                       0                          0   \n",
       "74683                       0                          0   \n",
       "\n",
       "       ExtraTA_CDLSTICKSANDWICH  ExtraTA_CDLTAKURI  ExtraTA_CDLTASUKIGAP  \\\n",
       "74679                         0                  0                     0   \n",
       "74680                         0                  0                     0   \n",
       "74681                         0                  0                     0   \n",
       "74682                         0                  0                     0   \n",
       "74683                         0                  0                     0   \n",
       "\n",
       "       ExtraTA_CDLTHRUSTING  ExtraTA_CDLTRISTAR  ExtraTA_CDLUNIQUE3RIVER  \\\n",
       "74679                     0                   0                        0   \n",
       "74680                     0                   0                        0   \n",
       "74681                     0                   0                        0   \n",
       "74682                     0                   0                        0   \n",
       "74683                     0                   0                        0   \n",
       "\n",
       "       ExtraTA_CDLUPSIDEGAP2CROWS  ExtraTA_CDLXSIDEGAP3METHODS  \n",
       "74679                           0                            0  \n",
       "74680                           0                            0  \n",
       "74681                           0                            0  \n",
       "74682                           0                            0  \n",
       "74683                           0                            0  \n",
       "\n",
       "[5 rows x 124 columns]"
      ]
     },
     "execution_count": 7,
     "metadata": {},
     "output_type": "execute_result"
    }
   ],
   "source": [
    "data.tail()"
   ]
  },
  {
   "cell_type": "code",
   "execution_count": 8,
   "metadata": {
    "hide_input": true
   },
   "outputs": [
    {
     "data": {
      "text/html": [
       "<div>\n",
       "<style scoped>\n",
       "    .dataframe tbody tr th:only-of-type {\n",
       "        vertical-align: middle;\n",
       "    }\n",
       "\n",
       "    .dataframe tbody tr th {\n",
       "        vertical-align: top;\n",
       "    }\n",
       "\n",
       "    .dataframe thead th {\n",
       "        text-align: right;\n",
       "    }\n",
       "</style>\n",
       "<table border=\"1\" class=\"dataframe\">\n",
       "  <thead>\n",
       "    <tr style=\"text-align: right;\">\n",
       "      <th></th>\n",
       "      <th>Unnamed: 0.1</th>\n",
       "      <th>Unnamed: 0.1.1</th>\n",
       "      <th>Time</th>\n",
       "      <th>OpenPrice</th>\n",
       "      <th>HighPrice</th>\n",
       "      <th>LowPrice</th>\n",
       "      <th>ClosePrice</th>\n",
       "      <th>VWAP</th>\n",
       "      <th>TWAP</th>\n",
       "      <th>ModePrice</th>\n",
       "      <th>...</th>\n",
       "      <th>ExtraTA_CDLSPINNINGTOP</th>\n",
       "      <th>ExtraTA_CDLSTALLEDPATTERN</th>\n",
       "      <th>ExtraTA_CDLSTICKSANDWICH</th>\n",
       "      <th>ExtraTA_CDLTAKURI</th>\n",
       "      <th>ExtraTA_CDLTASUKIGAP</th>\n",
       "      <th>ExtraTA_CDLTHRUSTING</th>\n",
       "      <th>ExtraTA_CDLTRISTAR</th>\n",
       "      <th>ExtraTA_CDLUNIQUE3RIVER</th>\n",
       "      <th>ExtraTA_CDLUPSIDEGAP2CROWS</th>\n",
       "      <th>ExtraTA_CDLXSIDEGAP3METHODS</th>\n",
       "    </tr>\n",
       "  </thead>\n",
       "  <tbody>\n",
       "    <tr>\n",
       "      <th>0</th>\n",
       "      <td>0</td>\n",
       "      <td>0</td>\n",
       "      <td>2.020051e+13</td>\n",
       "      <td>3697.0</td>\n",
       "      <td>3699.5</td>\n",
       "      <td>3694.5</td>\n",
       "      <td>3696.5</td>\n",
       "      <td>3696.831122</td>\n",
       "      <td>3697.183333</td>\n",
       "      <td>3696</td>\n",
       "      <td>...</td>\n",
       "      <td>0</td>\n",
       "      <td>0</td>\n",
       "      <td>0</td>\n",
       "      <td>0</td>\n",
       "      <td>0</td>\n",
       "      <td>0</td>\n",
       "      <td>0</td>\n",
       "      <td>0</td>\n",
       "      <td>0</td>\n",
       "      <td>0</td>\n",
       "    </tr>\n",
       "    <tr>\n",
       "      <th>1</th>\n",
       "      <td>1</td>\n",
       "      <td>1</td>\n",
       "      <td>2.020051e+13</td>\n",
       "      <td>3696.5</td>\n",
       "      <td>3696.5</td>\n",
       "      <td>3693.5</td>\n",
       "      <td>3695.5</td>\n",
       "      <td>3695.113238</td>\n",
       "      <td>3695.300000</td>\n",
       "      <td>3695</td>\n",
       "      <td>...</td>\n",
       "      <td>0</td>\n",
       "      <td>0</td>\n",
       "      <td>0</td>\n",
       "      <td>0</td>\n",
       "      <td>0</td>\n",
       "      <td>0</td>\n",
       "      <td>0</td>\n",
       "      <td>0</td>\n",
       "      <td>0</td>\n",
       "      <td>0</td>\n",
       "    </tr>\n",
       "    <tr>\n",
       "      <th>2</th>\n",
       "      <td>2</td>\n",
       "      <td>2</td>\n",
       "      <td>2.020051e+13</td>\n",
       "      <td>3696.0</td>\n",
       "      <td>3696.0</td>\n",
       "      <td>3688.5</td>\n",
       "      <td>3693.0</td>\n",
       "      <td>3692.898551</td>\n",
       "      <td>3693.233333</td>\n",
       "      <td>3694</td>\n",
       "      <td>...</td>\n",
       "      <td>0</td>\n",
       "      <td>0</td>\n",
       "      <td>0</td>\n",
       "      <td>0</td>\n",
       "      <td>0</td>\n",
       "      <td>0</td>\n",
       "      <td>0</td>\n",
       "      <td>0</td>\n",
       "      <td>0</td>\n",
       "      <td>0</td>\n",
       "    </tr>\n",
       "    <tr>\n",
       "      <th>3</th>\n",
       "      <td>3</td>\n",
       "      <td>3</td>\n",
       "      <td>2.020051e+13</td>\n",
       "      <td>3692.0</td>\n",
       "      <td>3692.5</td>\n",
       "      <td>3686.5</td>\n",
       "      <td>3687.5</td>\n",
       "      <td>3689.487021</td>\n",
       "      <td>3689.850000</td>\n",
       "      <td>3690</td>\n",
       "      <td>...</td>\n",
       "      <td>0</td>\n",
       "      <td>0</td>\n",
       "      <td>0</td>\n",
       "      <td>0</td>\n",
       "      <td>0</td>\n",
       "      <td>0</td>\n",
       "      <td>0</td>\n",
       "      <td>0</td>\n",
       "      <td>0</td>\n",
       "      <td>0</td>\n",
       "    </tr>\n",
       "    <tr>\n",
       "      <th>4</th>\n",
       "      <td>4</td>\n",
       "      <td>4</td>\n",
       "      <td>2.020051e+13</td>\n",
       "      <td>3687.5</td>\n",
       "      <td>3688.5</td>\n",
       "      <td>3680.5</td>\n",
       "      <td>3681.5</td>\n",
       "      <td>3683.159609</td>\n",
       "      <td>3683.833333</td>\n",
       "      <td>3682</td>\n",
       "      <td>...</td>\n",
       "      <td>0</td>\n",
       "      <td>0</td>\n",
       "      <td>0</td>\n",
       "      <td>0</td>\n",
       "      <td>0</td>\n",
       "      <td>0</td>\n",
       "      <td>0</td>\n",
       "      <td>0</td>\n",
       "      <td>0</td>\n",
       "      <td>0</td>\n",
       "    </tr>\n",
       "  </tbody>\n",
       "</table>\n",
       "<p>5 rows × 124 columns</p>\n",
       "</div>"
      ],
      "text/plain": [
       "   Unnamed: 0.1  Unnamed: 0.1.1          Time  OpenPrice  HighPrice  LowPrice  \\\n",
       "0             0               0  2.020051e+13     3697.0     3699.5    3694.5   \n",
       "1             1               1  2.020051e+13     3696.5     3696.5    3693.5   \n",
       "2             2               2  2.020051e+13     3696.0     3696.0    3688.5   \n",
       "3             3               3  2.020051e+13     3692.0     3692.5    3686.5   \n",
       "4             4               4  2.020051e+13     3687.5     3688.5    3680.5   \n",
       "\n",
       "   ClosePrice         VWAP         TWAP  ModePrice  ...  \\\n",
       "0      3696.5  3696.831122  3697.183333       3696  ...   \n",
       "1      3695.5  3695.113238  3695.300000       3695  ...   \n",
       "2      3693.0  3692.898551  3693.233333       3694  ...   \n",
       "3      3687.5  3689.487021  3689.850000       3690  ...   \n",
       "4      3681.5  3683.159609  3683.833333       3682  ...   \n",
       "\n",
       "   ExtraTA_CDLSPINNINGTOP  ExtraTA_CDLSTALLEDPATTERN  \\\n",
       "0                       0                          0   \n",
       "1                       0                          0   \n",
       "2                       0                          0   \n",
       "3                       0                          0   \n",
       "4                       0                          0   \n",
       "\n",
       "   ExtraTA_CDLSTICKSANDWICH  ExtraTA_CDLTAKURI  ExtraTA_CDLTASUKIGAP  \\\n",
       "0                         0                  0                     0   \n",
       "1                         0                  0                     0   \n",
       "2                         0                  0                     0   \n",
       "3                         0                  0                     0   \n",
       "4                         0                  0                     0   \n",
       "\n",
       "   ExtraTA_CDLTHRUSTING  ExtraTA_CDLTRISTAR  ExtraTA_CDLUNIQUE3RIVER  \\\n",
       "0                     0                   0                        0   \n",
       "1                     0                   0                        0   \n",
       "2                     0                   0                        0   \n",
       "3                     0                   0                        0   \n",
       "4                     0                   0                        0   \n",
       "\n",
       "   ExtraTA_CDLUPSIDEGAP2CROWS  ExtraTA_CDLXSIDEGAP3METHODS  \n",
       "0                           0                            0  \n",
       "1                           0                            0  \n",
       "2                           0                            0  \n",
       "3                           0                            0  \n",
       "4                           0                            0  \n",
       "\n",
       "[5 rows x 124 columns]"
      ]
     },
     "execution_count": 8,
     "metadata": {},
     "output_type": "execute_result"
    }
   ],
   "source": [
    "data.head()"
   ]
  },
  {
   "cell_type": "markdown",
   "metadata": {},
   "source": [
    "# 2 探索性数据分析"
   ]
  },
  {
   "cell_type": "markdown",
   "metadata": {},
   "source": [
    "## 2.1查看特征"
   ]
  },
  {
   "cell_type": "code",
   "execution_count": 9,
   "metadata": {},
   "outputs": [
    {
     "data": {
      "text/html": [
       "<div>\n",
       "<style scoped>\n",
       "    .dataframe tbody tr th:only-of-type {\n",
       "        vertical-align: middle;\n",
       "    }\n",
       "\n",
       "    .dataframe tbody tr th {\n",
       "        vertical-align: top;\n",
       "    }\n",
       "\n",
       "    .dataframe thead th {\n",
       "        text-align: right;\n",
       "    }\n",
       "</style>\n",
       "<table border=\"1\" class=\"dataframe\">\n",
       "  <thead>\n",
       "    <tr style=\"text-align: right;\">\n",
       "      <th></th>\n",
       "      <th>Unnamed: 0.1</th>\n",
       "      <th>Unnamed: 0.1.1</th>\n",
       "      <th>Time</th>\n",
       "      <th>OpenPrice</th>\n",
       "      <th>HighPrice</th>\n",
       "      <th>LowPrice</th>\n",
       "      <th>ClosePrice</th>\n",
       "      <th>VWAP</th>\n",
       "      <th>TWAP</th>\n",
       "      <th>ModePrice</th>\n",
       "    </tr>\n",
       "  </thead>\n",
       "  <tbody>\n",
       "    <tr>\n",
       "      <th>100</th>\n",
       "      <td>100</td>\n",
       "      <td>100</td>\n",
       "      <td>2.020051e+13</td>\n",
       "      <td>3684.0</td>\n",
       "      <td>3684.5</td>\n",
       "      <td>3681.5</td>\n",
       "      <td>3683.5</td>\n",
       "      <td>3682.601322</td>\n",
       "      <td>3682.750000</td>\n",
       "      <td>3682</td>\n",
       "    </tr>\n",
       "    <tr>\n",
       "      <th>101</th>\n",
       "      <td>101</td>\n",
       "      <td>101</td>\n",
       "      <td>2.020051e+13</td>\n",
       "      <td>3683.5</td>\n",
       "      <td>3683.5</td>\n",
       "      <td>3681.5</td>\n",
       "      <td>3682.5</td>\n",
       "      <td>3682.031250</td>\n",
       "      <td>3681.783333</td>\n",
       "      <td>3681</td>\n",
       "    </tr>\n",
       "    <tr>\n",
       "      <th>102</th>\n",
       "      <td>102</td>\n",
       "      <td>102</td>\n",
       "      <td>2.020051e+13</td>\n",
       "      <td>3682.5</td>\n",
       "      <td>3684.5</td>\n",
       "      <td>3681.5</td>\n",
       "      <td>3684.5</td>\n",
       "      <td>3683.052326</td>\n",
       "      <td>3682.866667</td>\n",
       "      <td>3683</td>\n",
       "    </tr>\n",
       "    <tr>\n",
       "      <th>103</th>\n",
       "      <td>103</td>\n",
       "      <td>103</td>\n",
       "      <td>2.020051e+13</td>\n",
       "      <td>3684.5</td>\n",
       "      <td>3685.5</td>\n",
       "      <td>3683.5</td>\n",
       "      <td>3685.5</td>\n",
       "      <td>3684.475610</td>\n",
       "      <td>3684.266667</td>\n",
       "      <td>3684</td>\n",
       "    </tr>\n",
       "    <tr>\n",
       "      <th>104</th>\n",
       "      <td>104</td>\n",
       "      <td>104</td>\n",
       "      <td>2.020051e+13</td>\n",
       "      <td>3685.5</td>\n",
       "      <td>3686.5</td>\n",
       "      <td>3684.5</td>\n",
       "      <td>3685.5</td>\n",
       "      <td>3685.437086</td>\n",
       "      <td>3685.566667</td>\n",
       "      <td>3685</td>\n",
       "    </tr>\n",
       "  </tbody>\n",
       "</table>\n",
       "</div>"
      ],
      "text/plain": [
       "     Unnamed: 0.1  Unnamed: 0.1.1          Time  OpenPrice  HighPrice  \\\n",
       "100           100             100  2.020051e+13     3684.0     3684.5   \n",
       "101           101             101  2.020051e+13     3683.5     3683.5   \n",
       "102           102             102  2.020051e+13     3682.5     3684.5   \n",
       "103           103             103  2.020051e+13     3684.5     3685.5   \n",
       "104           104             104  2.020051e+13     3685.5     3686.5   \n",
       "\n",
       "     LowPrice  ClosePrice         VWAP         TWAP  ModePrice  \n",
       "100    3681.5      3683.5  3682.601322  3682.750000       3682  \n",
       "101    3681.5      3682.5  3682.031250  3681.783333       3681  \n",
       "102    3681.5      3684.5  3683.052326  3682.866667       3683  \n",
       "103    3683.5      3685.5  3684.475610  3684.266667       3684  \n",
       "104    3684.5      3685.5  3685.437086  3685.566667       3685  "
      ]
     },
     "execution_count": 9,
     "metadata": {},
     "output_type": "execute_result"
    }
   ],
   "source": [
    "data.iloc[100:105,0:10]"
   ]
  },
  {
   "cell_type": "code",
   "execution_count": 10,
   "metadata": {},
   "outputs": [
    {
     "data": {
      "text/html": [
       "<div>\n",
       "<style scoped>\n",
       "    .dataframe tbody tr th:only-of-type {\n",
       "        vertical-align: middle;\n",
       "    }\n",
       "\n",
       "    .dataframe tbody tr th {\n",
       "        vertical-align: top;\n",
       "    }\n",
       "\n",
       "    .dataframe thead th {\n",
       "        text-align: right;\n",
       "    }\n",
       "</style>\n",
       "<table border=\"1\" class=\"dataframe\">\n",
       "  <thead>\n",
       "    <tr style=\"text-align: right;\">\n",
       "      <th></th>\n",
       "      <th>MedianPrice</th>\n",
       "      <th>Volume</th>\n",
       "      <th>Turnover</th>\n",
       "      <th>OI</th>\n",
       "      <th>HighIndex</th>\n",
       "      <th>LowIndex</th>\n",
       "      <th>CorrPV</th>\n",
       "      <th>CorrPOI</th>\n",
       "      <th>CorrAutoRtn</th>\n",
       "      <th>RtnMean</th>\n",
       "    </tr>\n",
       "  </thead>\n",
       "  <tbody>\n",
       "    <tr>\n",
       "      <th>100</th>\n",
       "      <td>3682.5</td>\n",
       "      <td>454.0</td>\n",
       "      <td>25078515.0</td>\n",
       "      <td>26.0</td>\n",
       "      <td>0.033333</td>\n",
       "      <td>0.366667</td>\n",
       "      <td>-0.166690</td>\n",
       "      <td>-0.185766</td>\n",
       "      <td>-0.279089</td>\n",
       "      <td>-2.290377e-06</td>\n",
       "    </tr>\n",
       "    <tr>\n",
       "      <th>101</th>\n",
       "      <td>3681.5</td>\n",
       "      <td>448.0</td>\n",
       "      <td>24743250.0</td>\n",
       "      <td>72.0</td>\n",
       "      <td>0.000000</td>\n",
       "      <td>0.150000</td>\n",
       "      <td>0.154775</td>\n",
       "      <td>0.269349</td>\n",
       "      <td>-0.147489</td>\n",
       "      <td>-4.594495e-06</td>\n",
       "    </tr>\n",
       "    <tr>\n",
       "      <th>102</th>\n",
       "      <td>3683.5</td>\n",
       "      <td>172.0</td>\n",
       "      <td>9502275.0</td>\n",
       "      <td>18.0</td>\n",
       "      <td>0.833333</td>\n",
       "      <td>0.100000</td>\n",
       "      <td>-0.027370</td>\n",
       "      <td>-0.034722</td>\n",
       "      <td>-0.013989</td>\n",
       "      <td>9.205868e-06</td>\n",
       "    </tr>\n",
       "    <tr>\n",
       "      <th>103</th>\n",
       "      <td>3684.5</td>\n",
       "      <td>82.0</td>\n",
       "      <td>4531905.0</td>\n",
       "      <td>5.0</td>\n",
       "      <td>0.950000</td>\n",
       "      <td>0.233333</td>\n",
       "      <td>0.081434</td>\n",
       "      <td>-0.038951</td>\n",
       "      <td>-0.004953</td>\n",
       "      <td>4.601684e-06</td>\n",
       "    </tr>\n",
       "    <tr>\n",
       "      <th>104</th>\n",
       "      <td>3685.5</td>\n",
       "      <td>151.0</td>\n",
       "      <td>8347515.0</td>\n",
       "      <td>25.0</td>\n",
       "      <td>0.783333</td>\n",
       "      <td>0.050000</td>\n",
       "      <td>0.217610</td>\n",
       "      <td>0.352170</td>\n",
       "      <td>-0.000001</td>\n",
       "      <td>2.183659e-09</td>\n",
       "    </tr>\n",
       "  </tbody>\n",
       "</table>\n",
       "</div>"
      ],
      "text/plain": [
       "     MedianPrice  Volume    Turnover    OI  HighIndex  LowIndex    CorrPV  \\\n",
       "100       3682.5   454.0  25078515.0  26.0   0.033333  0.366667 -0.166690   \n",
       "101       3681.5   448.0  24743250.0  72.0   0.000000  0.150000  0.154775   \n",
       "102       3683.5   172.0   9502275.0  18.0   0.833333  0.100000 -0.027370   \n",
       "103       3684.5    82.0   4531905.0   5.0   0.950000  0.233333  0.081434   \n",
       "104       3685.5   151.0   8347515.0  25.0   0.783333  0.050000  0.217610   \n",
       "\n",
       "      CorrPOI  CorrAutoRtn       RtnMean  \n",
       "100 -0.185766    -0.279089 -2.290377e-06  \n",
       "101  0.269349    -0.147489 -4.594495e-06  \n",
       "102 -0.034722    -0.013989  9.205868e-06  \n",
       "103 -0.038951    -0.004953  4.601684e-06  \n",
       "104  0.352170    -0.000001  2.183659e-09  "
      ]
     },
     "execution_count": 10,
     "metadata": {},
     "output_type": "execute_result"
    }
   ],
   "source": [
    "data.iloc[100:105,10:20]"
   ]
  },
  {
   "cell_type": "code",
   "execution_count": 11,
   "metadata": {},
   "outputs": [
    {
     "data": {
      "text/html": [
       "<div>\n",
       "<style scoped>\n",
       "    .dataframe tbody tr th:only-of-type {\n",
       "        vertical-align: middle;\n",
       "    }\n",
       "\n",
       "    .dataframe tbody tr th {\n",
       "        vertical-align: top;\n",
       "    }\n",
       "\n",
       "    .dataframe thead th {\n",
       "        text-align: right;\n",
       "    }\n",
       "</style>\n",
       "<table border=\"1\" class=\"dataframe\">\n",
       "  <thead>\n",
       "    <tr style=\"text-align: right;\">\n",
       "      <th></th>\n",
       "      <th>RtnStd</th>\n",
       "      <th>RtnSkew</th>\n",
       "      <th>RtnKurt</th>\n",
       "      <th>NetBuyVolume</th>\n",
       "      <th>SpreadRatio</th>\n",
       "      <th>ImbL1Mean</th>\n",
       "      <th>ImbL1Std</th>\n",
       "      <th>ImbL1Skew</th>\n",
       "      <th>CorrImbL1Mid</th>\n",
       "      <th>ImbL1Last</th>\n",
       "    </tr>\n",
       "  </thead>\n",
       "  <tbody>\n",
       "    <tr>\n",
       "      <th>100</th>\n",
       "      <td>0.000142</td>\n",
       "      <td>-0.317735</td>\n",
       "      <td>0.903829</td>\n",
       "      <td>0</td>\n",
       "      <td>0.000303</td>\n",
       "      <td>0.302821</td>\n",
       "      <td>0.463141</td>\n",
       "      <td>-1.061269</td>\n",
       "      <td>-0.506280</td>\n",
       "      <td>0.630769</td>\n",
       "    </tr>\n",
       "    <tr>\n",
       "      <th>101</th>\n",
       "      <td>0.000122</td>\n",
       "      <td>0.206256</td>\n",
       "      <td>1.644951</td>\n",
       "      <td>0</td>\n",
       "      <td>0.000285</td>\n",
       "      <td>0.108925</td>\n",
       "      <td>0.591307</td>\n",
       "      <td>-0.176556</td>\n",
       "      <td>-0.594085</td>\n",
       "      <td>-0.682927</td>\n",
       "    </tr>\n",
       "    <tr>\n",
       "      <th>102</th>\n",
       "      <td>0.000079</td>\n",
       "      <td>1.575414</td>\n",
       "      <td>4.668289</td>\n",
       "      <td>0</td>\n",
       "      <td>0.000303</td>\n",
       "      <td>-0.215189</td>\n",
       "      <td>0.507661</td>\n",
       "      <td>0.043417</td>\n",
       "      <td>-0.819236</td>\n",
       "      <td>0.463918</td>\n",
       "    </tr>\n",
       "    <tr>\n",
       "      <th>103</th>\n",
       "      <td>0.000066</td>\n",
       "      <td>0.972629</td>\n",
       "      <td>11.896529</td>\n",
       "      <td>0</td>\n",
       "      <td>0.000290</td>\n",
       "      <td>-0.073479</td>\n",
       "      <td>0.495547</td>\n",
       "      <td>0.612179</td>\n",
       "      <td>-0.334739</td>\n",
       "      <td>-0.441176</td>\n",
       "    </tr>\n",
       "    <tr>\n",
       "      <th>104</th>\n",
       "      <td>0.000066</td>\n",
       "      <td>0.881528</td>\n",
       "      <td>12.050487</td>\n",
       "      <td>0</td>\n",
       "      <td>0.000280</td>\n",
       "      <td>-0.267480</td>\n",
       "      <td>0.435589</td>\n",
       "      <td>0.167636</td>\n",
       "      <td>-0.650201</td>\n",
       "      <td>0.135135</td>\n",
       "    </tr>\n",
       "  </tbody>\n",
       "</table>\n",
       "</div>"
      ],
      "text/plain": [
       "       RtnStd   RtnSkew    RtnKurt  NetBuyVolume  SpreadRatio  ImbL1Mean  \\\n",
       "100  0.000142 -0.317735   0.903829             0     0.000303   0.302821   \n",
       "101  0.000122  0.206256   1.644951             0     0.000285   0.108925   \n",
       "102  0.000079  1.575414   4.668289             0     0.000303  -0.215189   \n",
       "103  0.000066  0.972629  11.896529             0     0.000290  -0.073479   \n",
       "104  0.000066  0.881528  12.050487             0     0.000280  -0.267480   \n",
       "\n",
       "     ImbL1Std  ImbL1Skew  CorrImbL1Mid  ImbL1Last  \n",
       "100  0.463141  -1.061269     -0.506280   0.630769  \n",
       "101  0.591307  -0.176556     -0.594085  -0.682927  \n",
       "102  0.507661   0.043417     -0.819236   0.463918  \n",
       "103  0.495547   0.612179     -0.334739  -0.441176  \n",
       "104  0.435589   0.167636     -0.650201   0.135135  "
      ]
     },
     "execution_count": 11,
     "metadata": {},
     "output_type": "execute_result"
    }
   ],
   "source": [
    "data.iloc[100:105,20:30]"
   ]
  },
  {
   "cell_type": "code",
   "execution_count": 12,
   "metadata": {},
   "outputs": [
    {
     "data": {
      "text/html": [
       "<div>\n",
       "<style scoped>\n",
       "    .dataframe tbody tr th:only-of-type {\n",
       "        vertical-align: middle;\n",
       "    }\n",
       "\n",
       "    .dataframe tbody tr th {\n",
       "        vertical-align: top;\n",
       "    }\n",
       "\n",
       "    .dataframe thead th {\n",
       "        text-align: right;\n",
       "    }\n",
       "</style>\n",
       "<table border=\"1\" class=\"dataframe\">\n",
       "  <thead>\n",
       "    <tr style=\"text-align: right;\">\n",
       "      <th></th>\n",
       "      <th>TD</th>\n",
       "      <th>ExtraTA_ADX</th>\n",
       "      <th>ExtraTA_ADXR</th>\n",
       "      <th>ExtraTA_APO</th>\n",
       "      <th>ExtraTA_AROON_DOWN</th>\n",
       "      <th>ExtraTA_AROON_UP</th>\n",
       "      <th>ExtraTA_AROONOSC</th>\n",
       "      <th>ExtraTA_BOP</th>\n",
       "      <th>ExtraTA_CCI</th>\n",
       "      <th>ExtraTA_CMO</th>\n",
       "    </tr>\n",
       "  </thead>\n",
       "  <tbody>\n",
       "    <tr>\n",
       "      <th>100</th>\n",
       "      <td>20200507</td>\n",
       "      <td>26.362721</td>\n",
       "      <td>25.129539</td>\n",
       "      <td>-0.608974</td>\n",
       "      <td>100.000000</td>\n",
       "      <td>57.142857</td>\n",
       "      <td>-42.857143</td>\n",
       "      <td>-0.166667</td>\n",
       "      <td>-269.693252</td>\n",
       "      <td>-31.021515</td>\n",
       "    </tr>\n",
       "    <tr>\n",
       "      <th>101</th>\n",
       "      <td>20200507</td>\n",
       "      <td>28.217769</td>\n",
       "      <td>25.700602</td>\n",
       "      <td>-0.801282</td>\n",
       "      <td>100.000000</td>\n",
       "      <td>50.000000</td>\n",
       "      <td>-50.000000</td>\n",
       "      <td>-0.500000</td>\n",
       "      <td>-196.680973</td>\n",
       "      <td>-34.643998</td>\n",
       "    </tr>\n",
       "    <tr>\n",
       "      <th>102</th>\n",
       "      <td>20200507</td>\n",
       "      <td>29.249423</td>\n",
       "      <td>25.885430</td>\n",
       "      <td>-1.028846</td>\n",
       "      <td>100.000000</td>\n",
       "      <td>42.857143</td>\n",
       "      <td>-57.142857</td>\n",
       "      <td>0.666667</td>\n",
       "      <td>-121.293673</td>\n",
       "      <td>-20.961807</td>\n",
       "    </tr>\n",
       "    <tr>\n",
       "      <th>103</th>\n",
       "      <td>20200507</td>\n",
       "      <td>29.555191</td>\n",
       "      <td>26.445094</td>\n",
       "      <td>-1.256410</td>\n",
       "      <td>92.857143</td>\n",
       "      <td>35.714286</td>\n",
       "      <td>-57.142857</td>\n",
       "      <td>0.500000</td>\n",
       "      <td>-69.529386</td>\n",
       "      <td>-14.686491</td>\n",
       "    </tr>\n",
       "    <tr>\n",
       "      <th>104</th>\n",
       "      <td>20200507</td>\n",
       "      <td>29.224097</td>\n",
       "      <td>26.338259</td>\n",
       "      <td>-1.439103</td>\n",
       "      <td>85.714286</td>\n",
       "      <td>28.571429</td>\n",
       "      <td>-57.142857</td>\n",
       "      <td>0.000000</td>\n",
       "      <td>-45.151893</td>\n",
       "      <td>-14.686491</td>\n",
       "    </tr>\n",
       "  </tbody>\n",
       "</table>\n",
       "</div>"
      ],
      "text/plain": [
       "           TD  ExtraTA_ADX  ExtraTA_ADXR  ExtraTA_APO  ExtraTA_AROON_DOWN  \\\n",
       "100  20200507    26.362721     25.129539    -0.608974          100.000000   \n",
       "101  20200507    28.217769     25.700602    -0.801282          100.000000   \n",
       "102  20200507    29.249423     25.885430    -1.028846          100.000000   \n",
       "103  20200507    29.555191     26.445094    -1.256410           92.857143   \n",
       "104  20200507    29.224097     26.338259    -1.439103           85.714286   \n",
       "\n",
       "     ExtraTA_AROON_UP  ExtraTA_AROONOSC  ExtraTA_BOP  ExtraTA_CCI  ExtraTA_CMO  \n",
       "100         57.142857        -42.857143    -0.166667  -269.693252   -31.021515  \n",
       "101         50.000000        -50.000000    -0.500000  -196.680973   -34.643998  \n",
       "102         42.857143        -57.142857     0.666667  -121.293673   -20.961807  \n",
       "103         35.714286        -57.142857     0.500000   -69.529386   -14.686491  \n",
       "104         28.571429        -57.142857     0.000000   -45.151893   -14.686491  "
      ]
     },
     "execution_count": 12,
     "metadata": {},
     "output_type": "execute_result"
    }
   ],
   "source": [
    "data.iloc[100:105,30:40]"
   ]
  },
  {
   "cell_type": "code",
   "execution_count": 13,
   "metadata": {},
   "outputs": [
    {
     "data": {
      "text/html": [
       "<div>\n",
       "<style scoped>\n",
       "    .dataframe tbody tr th:only-of-type {\n",
       "        vertical-align: middle;\n",
       "    }\n",
       "\n",
       "    .dataframe tbody tr th {\n",
       "        vertical-align: top;\n",
       "    }\n",
       "\n",
       "    .dataframe thead th {\n",
       "        text-align: right;\n",
       "    }\n",
       "</style>\n",
       "<table border=\"1\" class=\"dataframe\">\n",
       "  <thead>\n",
       "    <tr style=\"text-align: right;\">\n",
       "      <th></th>\n",
       "      <th>ExtraTA_DX</th>\n",
       "      <th>ExtraTA_MACD</th>\n",
       "      <th>ExtraTA_MACD_SIGNAL</th>\n",
       "      <th>ExtraTA_MACD_HIST</th>\n",
       "      <th>ExtraTA_MINUS_DI</th>\n",
       "      <th>ExtraTA_MINUS_DM</th>\n",
       "      <th>ExtraTA_MOM</th>\n",
       "      <th>ExtraTA_PLUS_DI</th>\n",
       "      <th>ExtraTA_PLUS_DM</th>\n",
       "      <th>ExtraTA_PPO</th>\n",
       "    </tr>\n",
       "  </thead>\n",
       "  <tbody>\n",
       "    <tr>\n",
       "      <th>100</th>\n",
       "      <td>52.333390</td>\n",
       "      <td>-1.067092</td>\n",
       "      <td>-0.454173</td>\n",
       "      <td>-0.612919</td>\n",
       "      <td>34.476637</td>\n",
       "      <td>13.028732</td>\n",
       "      <td>-6.5</td>\n",
       "      <td>10.788077</td>\n",
       "      <td>4.076818</td>\n",
       "      <td>-0.016506</td>\n",
       "    </tr>\n",
       "    <tr>\n",
       "      <th>101</th>\n",
       "      <td>52.333390</td>\n",
       "      <td>-1.424447</td>\n",
       "      <td>-0.648228</td>\n",
       "      <td>-0.776219</td>\n",
       "      <td>32.617594</td>\n",
       "      <td>12.098109</td>\n",
       "      <td>-8.5</td>\n",
       "      <td>10.206365</td>\n",
       "      <td>3.785617</td>\n",
       "      <td>-0.021720</td>\n",
       "    </tr>\n",
       "    <tr>\n",
       "      <th>102</th>\n",
       "      <td>42.660921</td>\n",
       "      <td>-1.528649</td>\n",
       "      <td>-0.824312</td>\n",
       "      <td>-0.704337</td>\n",
       "      <td>30.004103</td>\n",
       "      <td>11.233958</td>\n",
       "      <td>-5.5</td>\n",
       "      <td>12.059418</td>\n",
       "      <td>4.515216</td>\n",
       "      <td>-0.027890</td>\n",
       "    </tr>\n",
       "    <tr>\n",
       "      <th>103</th>\n",
       "      <td>33.530174</td>\n",
       "      <td>-1.513096</td>\n",
       "      <td>-0.962069</td>\n",
       "      <td>-0.551027</td>\n",
       "      <td>28.371983</td>\n",
       "      <td>10.431533</td>\n",
       "      <td>-7.0</td>\n",
       "      <td>14.123255</td>\n",
       "      <td>5.192700</td>\n",
       "      <td>-0.034061</td>\n",
       "    </tr>\n",
       "    <tr>\n",
       "      <th>104</th>\n",
       "      <td>24.919888</td>\n",
       "      <td>-1.483667</td>\n",
       "      <td>-1.066389</td>\n",
       "      <td>-0.417279</td>\n",
       "      <td>26.801902</td>\n",
       "      <td>9.686423</td>\n",
       "      <td>-4.0</td>\n",
       "      <td>16.108643</td>\n",
       "      <td>5.821793</td>\n",
       "      <td>-0.039016</td>\n",
       "    </tr>\n",
       "  </tbody>\n",
       "</table>\n",
       "</div>"
      ],
      "text/plain": [
       "     ExtraTA_DX  ExtraTA_MACD  ExtraTA_MACD_SIGNAL  ExtraTA_MACD_HIST  \\\n",
       "100   52.333390     -1.067092            -0.454173          -0.612919   \n",
       "101   52.333390     -1.424447            -0.648228          -0.776219   \n",
       "102   42.660921     -1.528649            -0.824312          -0.704337   \n",
       "103   33.530174     -1.513096            -0.962069          -0.551027   \n",
       "104   24.919888     -1.483667            -1.066389          -0.417279   \n",
       "\n",
       "     ExtraTA_MINUS_DI  ExtraTA_MINUS_DM  ExtraTA_MOM  ExtraTA_PLUS_DI  \\\n",
       "100         34.476637         13.028732         -6.5        10.788077   \n",
       "101         32.617594         12.098109         -8.5        10.206365   \n",
       "102         30.004103         11.233958         -5.5        12.059418   \n",
       "103         28.371983         10.431533         -7.0        14.123255   \n",
       "104         26.801902          9.686423         -4.0        16.108643   \n",
       "\n",
       "     ExtraTA_PLUS_DM  ExtraTA_PPO  \n",
       "100         4.076818    -0.016506  \n",
       "101         3.785617    -0.021720  \n",
       "102         4.515216    -0.027890  \n",
       "103         5.192700    -0.034061  \n",
       "104         5.821793    -0.039016  "
      ]
     },
     "execution_count": 13,
     "metadata": {},
     "output_type": "execute_result"
    }
   ],
   "source": [
    "data.iloc[100:105,40:50]"
   ]
  },
  {
   "cell_type": "code",
   "execution_count": 14,
   "metadata": {},
   "outputs": [
    {
     "data": {
      "text/html": [
       "<div>\n",
       "<style scoped>\n",
       "    .dataframe tbody tr th:only-of-type {\n",
       "        vertical-align: middle;\n",
       "    }\n",
       "\n",
       "    .dataframe tbody tr th {\n",
       "        vertical-align: top;\n",
       "    }\n",
       "\n",
       "    .dataframe thead th {\n",
       "        text-align: right;\n",
       "    }\n",
       "</style>\n",
       "<table border=\"1\" class=\"dataframe\">\n",
       "  <thead>\n",
       "    <tr style=\"text-align: right;\">\n",
       "      <th></th>\n",
       "      <th>ExtraTA_ROC</th>\n",
       "      <th>ExtraTA_ROCP</th>\n",
       "      <th>ExtraTA_ROCR</th>\n",
       "      <th>ExtraTA_RSI</th>\n",
       "      <th>ExtraTA_SLOWK</th>\n",
       "      <th>ExtraTA_SLOWD</th>\n",
       "      <th>ExtraTA_FASTK</th>\n",
       "      <th>ExtraTA_FASTD</th>\n",
       "      <th>ExtraTA_FASTKRSI</th>\n",
       "      <th>ExtraTA_FASTDRSI</th>\n",
       "    </tr>\n",
       "  </thead>\n",
       "  <tbody>\n",
       "    <tr>\n",
       "      <th>100</th>\n",
       "      <td>-0.176152</td>\n",
       "      <td>-0.001762</td>\n",
       "      <td>0.998238</td>\n",
       "      <td>34.489243</td>\n",
       "      <td>25.000000</td>\n",
       "      <td>30.555556</td>\n",
       "      <td>25.0</td>\n",
       "      <td>25.000000</td>\n",
       "      <td>0.00000</td>\n",
       "      <td>3.333333e+01</td>\n",
       "    </tr>\n",
       "    <tr>\n",
       "      <th>101</th>\n",
       "      <td>-0.230290</td>\n",
       "      <td>-0.002303</td>\n",
       "      <td>0.997697</td>\n",
       "      <td>32.678001</td>\n",
       "      <td>12.500000</td>\n",
       "      <td>21.388889</td>\n",
       "      <td>12.5</td>\n",
       "      <td>12.500000</td>\n",
       "      <td>0.00000</td>\n",
       "      <td>4.736952e-14</td>\n",
       "    </tr>\n",
       "    <tr>\n",
       "      <th>102</th>\n",
       "      <td>-0.149051</td>\n",
       "      <td>-0.001491</td>\n",
       "      <td>0.998509</td>\n",
       "      <td>39.519096</td>\n",
       "      <td>25.000000</td>\n",
       "      <td>20.833333</td>\n",
       "      <td>37.5</td>\n",
       "      <td>25.000000</td>\n",
       "      <td>43.63772</td>\n",
       "      <td>1.454591e+01</td>\n",
       "    </tr>\n",
       "    <tr>\n",
       "      <th>103</th>\n",
       "      <td>-0.189573</td>\n",
       "      <td>-0.001896</td>\n",
       "      <td>0.998104</td>\n",
       "      <td>42.656754</td>\n",
       "      <td>33.333333</td>\n",
       "      <td>23.611111</td>\n",
       "      <td>50.0</td>\n",
       "      <td>33.333333</td>\n",
       "      <td>100.00000</td>\n",
       "      <td>4.787924e+01</td>\n",
       "    </tr>\n",
       "    <tr>\n",
       "      <th>104</th>\n",
       "      <td>-0.108416</td>\n",
       "      <td>-0.001084</td>\n",
       "      <td>0.998916</td>\n",
       "      <td>42.656754</td>\n",
       "      <td>55.833333</td>\n",
       "      <td>38.055556</td>\n",
       "      <td>80.0</td>\n",
       "      <td>55.833333</td>\n",
       "      <td>100.00000</td>\n",
       "      <td>8.121257e+01</td>\n",
       "    </tr>\n",
       "  </tbody>\n",
       "</table>\n",
       "</div>"
      ],
      "text/plain": [
       "     ExtraTA_ROC  ExtraTA_ROCP  ExtraTA_ROCR  ExtraTA_RSI  ExtraTA_SLOWK  \\\n",
       "100    -0.176152     -0.001762      0.998238    34.489243      25.000000   \n",
       "101    -0.230290     -0.002303      0.997697    32.678001      12.500000   \n",
       "102    -0.149051     -0.001491      0.998509    39.519096      25.000000   \n",
       "103    -0.189573     -0.001896      0.998104    42.656754      33.333333   \n",
       "104    -0.108416     -0.001084      0.998916    42.656754      55.833333   \n",
       "\n",
       "     ExtraTA_SLOWD  ExtraTA_FASTK  ExtraTA_FASTD  ExtraTA_FASTKRSI  \\\n",
       "100      30.555556           25.0      25.000000           0.00000   \n",
       "101      21.388889           12.5      12.500000           0.00000   \n",
       "102      20.833333           37.5      25.000000          43.63772   \n",
       "103      23.611111           50.0      33.333333         100.00000   \n",
       "104      38.055556           80.0      55.833333         100.00000   \n",
       "\n",
       "     ExtraTA_FASTDRSI  \n",
       "100      3.333333e+01  \n",
       "101      4.736952e-14  \n",
       "102      1.454591e+01  \n",
       "103      4.787924e+01  \n",
       "104      8.121257e+01  "
      ]
     },
     "execution_count": 14,
     "metadata": {},
     "output_type": "execute_result"
    }
   ],
   "source": [
    "data.iloc[100:105,50:60]"
   ]
  },
  {
   "cell_type": "code",
   "execution_count": 15,
   "metadata": {},
   "outputs": [
    {
     "data": {
      "text/html": [
       "<div>\n",
       "<style scoped>\n",
       "    .dataframe tbody tr th:only-of-type {\n",
       "        vertical-align: middle;\n",
       "    }\n",
       "\n",
       "    .dataframe tbody tr th {\n",
       "        vertical-align: top;\n",
       "    }\n",
       "\n",
       "    .dataframe thead th {\n",
       "        text-align: right;\n",
       "    }\n",
       "</style>\n",
       "<table border=\"1\" class=\"dataframe\">\n",
       "  <thead>\n",
       "    <tr style=\"text-align: right;\">\n",
       "      <th></th>\n",
       "      <th>ExtraTA_TRIX</th>\n",
       "      <th>ExtraTA_ULTOSC</th>\n",
       "      <th>ExtraTA_WILLR</th>\n",
       "      <th>ExtraTA_CDL2CROWS</th>\n",
       "      <th>ExtraTA_CDL3BLACKCROWS</th>\n",
       "      <th>ExtraTA_CDL3INSIDE</th>\n",
       "      <th>ExtraTA_CDL3LINESTRIKE</th>\n",
       "      <th>ExtraTA_CDL3OUTSIDE</th>\n",
       "      <th>ExtraTA_CDL3STARSINSOUTH</th>\n",
       "      <th>ExtraTA_CDL3WHITESOLDIERS</th>\n",
       "    </tr>\n",
       "  </thead>\n",
       "  <tbody>\n",
       "    <tr>\n",
       "      <th>100</th>\n",
       "      <td>0.000385</td>\n",
       "      <td>49.822496</td>\n",
       "      <td>-81.818182</td>\n",
       "      <td>0</td>\n",
       "      <td>0</td>\n",
       "      <td>0</td>\n",
       "      <td>0</td>\n",
       "      <td>0</td>\n",
       "      <td>0</td>\n",
       "      <td>0</td>\n",
       "    </tr>\n",
       "    <tr>\n",
       "      <th>101</th>\n",
       "      <td>0.000215</td>\n",
       "      <td>54.042877</td>\n",
       "      <td>-90.909091</td>\n",
       "      <td>0</td>\n",
       "      <td>0</td>\n",
       "      <td>0</td>\n",
       "      <td>0</td>\n",
       "      <td>0</td>\n",
       "      <td>0</td>\n",
       "      <td>0</td>\n",
       "    </tr>\n",
       "    <tr>\n",
       "      <th>102</th>\n",
       "      <td>0.000035</td>\n",
       "      <td>58.700322</td>\n",
       "      <td>-72.727273</td>\n",
       "      <td>0</td>\n",
       "      <td>0</td>\n",
       "      <td>0</td>\n",
       "      <td>0</td>\n",
       "      <td>0</td>\n",
       "      <td>0</td>\n",
       "      <td>0</td>\n",
       "    </tr>\n",
       "    <tr>\n",
       "      <th>103</th>\n",
       "      <td>-0.000145</td>\n",
       "      <td>59.955703</td>\n",
       "      <td>-63.636364</td>\n",
       "      <td>0</td>\n",
       "      <td>0</td>\n",
       "      <td>0</td>\n",
       "      <td>0</td>\n",
       "      <td>0</td>\n",
       "      <td>0</td>\n",
       "      <td>0</td>\n",
       "    </tr>\n",
       "    <tr>\n",
       "      <th>104</th>\n",
       "      <td>-0.000322</td>\n",
       "      <td>58.401328</td>\n",
       "      <td>-63.636364</td>\n",
       "      <td>0</td>\n",
       "      <td>0</td>\n",
       "      <td>0</td>\n",
       "      <td>0</td>\n",
       "      <td>0</td>\n",
       "      <td>0</td>\n",
       "      <td>0</td>\n",
       "    </tr>\n",
       "  </tbody>\n",
       "</table>\n",
       "</div>"
      ],
      "text/plain": [
       "     ExtraTA_TRIX  ExtraTA_ULTOSC  ExtraTA_WILLR  ExtraTA_CDL2CROWS  \\\n",
       "100      0.000385       49.822496     -81.818182                  0   \n",
       "101      0.000215       54.042877     -90.909091                  0   \n",
       "102      0.000035       58.700322     -72.727273                  0   \n",
       "103     -0.000145       59.955703     -63.636364                  0   \n",
       "104     -0.000322       58.401328     -63.636364                  0   \n",
       "\n",
       "     ExtraTA_CDL3BLACKCROWS  ExtraTA_CDL3INSIDE  ExtraTA_CDL3LINESTRIKE  \\\n",
       "100                       0                   0                       0   \n",
       "101                       0                   0                       0   \n",
       "102                       0                   0                       0   \n",
       "103                       0                   0                       0   \n",
       "104                       0                   0                       0   \n",
       "\n",
       "     ExtraTA_CDL3OUTSIDE  ExtraTA_CDL3STARSINSOUTH  ExtraTA_CDL3WHITESOLDIERS  \n",
       "100                    0                         0                          0  \n",
       "101                    0                         0                          0  \n",
       "102                    0                         0                          0  \n",
       "103                    0                         0                          0  \n",
       "104                    0                         0                          0  "
      ]
     },
     "execution_count": 15,
     "metadata": {},
     "output_type": "execute_result"
    }
   ],
   "source": [
    "data.iloc[100:105,60:70]"
   ]
  },
  {
   "cell_type": "code",
   "execution_count": 16,
   "metadata": {},
   "outputs": [
    {
     "data": {
      "text/html": [
       "<div>\n",
       "<style scoped>\n",
       "    .dataframe tbody tr th:only-of-type {\n",
       "        vertical-align: middle;\n",
       "    }\n",
       "\n",
       "    .dataframe tbody tr th {\n",
       "        vertical-align: top;\n",
       "    }\n",
       "\n",
       "    .dataframe thead th {\n",
       "        text-align: right;\n",
       "    }\n",
       "</style>\n",
       "<table border=\"1\" class=\"dataframe\">\n",
       "  <thead>\n",
       "    <tr style=\"text-align: right;\">\n",
       "      <th></th>\n",
       "      <th>ExtraTA_CDLABANDONEDBABY</th>\n",
       "      <th>ExtraTA_CDLADVANCEBLOCK</th>\n",
       "      <th>ExtraTA_CDLBELTHOLD</th>\n",
       "      <th>ExtraTA_CDLBREAKAWAY</th>\n",
       "      <th>ExtraTA_CDLCLOSINGMARUBOZU</th>\n",
       "      <th>ExtraTA_CDLCONCEALBABYSWALL</th>\n",
       "      <th>ExtraTA_CDLCOUNTERATTACK</th>\n",
       "      <th>ExtraTA_CDLDARKCLOUDCOVER</th>\n",
       "      <th>ExtraTA_CDLDOJI</th>\n",
       "      <th>ExtraTA_CDLDOJISTAR</th>\n",
       "    </tr>\n",
       "  </thead>\n",
       "  <tbody>\n",
       "    <tr>\n",
       "      <th>100</th>\n",
       "      <td>0</td>\n",
       "      <td>0</td>\n",
       "      <td>0</td>\n",
       "      <td>0</td>\n",
       "      <td>0</td>\n",
       "      <td>0</td>\n",
       "      <td>0</td>\n",
       "      <td>0</td>\n",
       "      <td>0</td>\n",
       "      <td>0</td>\n",
       "    </tr>\n",
       "    <tr>\n",
       "      <th>101</th>\n",
       "      <td>0</td>\n",
       "      <td>0</td>\n",
       "      <td>0</td>\n",
       "      <td>0</td>\n",
       "      <td>0</td>\n",
       "      <td>0</td>\n",
       "      <td>0</td>\n",
       "      <td>0</td>\n",
       "      <td>0</td>\n",
       "      <td>0</td>\n",
       "    </tr>\n",
       "    <tr>\n",
       "      <th>102</th>\n",
       "      <td>0</td>\n",
       "      <td>0</td>\n",
       "      <td>0</td>\n",
       "      <td>0</td>\n",
       "      <td>100</td>\n",
       "      <td>0</td>\n",
       "      <td>0</td>\n",
       "      <td>0</td>\n",
       "      <td>0</td>\n",
       "      <td>0</td>\n",
       "    </tr>\n",
       "    <tr>\n",
       "      <th>103</th>\n",
       "      <td>0</td>\n",
       "      <td>0</td>\n",
       "      <td>0</td>\n",
       "      <td>0</td>\n",
       "      <td>0</td>\n",
       "      <td>0</td>\n",
       "      <td>0</td>\n",
       "      <td>0</td>\n",
       "      <td>0</td>\n",
       "      <td>0</td>\n",
       "    </tr>\n",
       "    <tr>\n",
       "      <th>104</th>\n",
       "      <td>0</td>\n",
       "      <td>0</td>\n",
       "      <td>0</td>\n",
       "      <td>0</td>\n",
       "      <td>0</td>\n",
       "      <td>0</td>\n",
       "      <td>0</td>\n",
       "      <td>0</td>\n",
       "      <td>100</td>\n",
       "      <td>0</td>\n",
       "    </tr>\n",
       "  </tbody>\n",
       "</table>\n",
       "</div>"
      ],
      "text/plain": [
       "     ExtraTA_CDLABANDONEDBABY  ExtraTA_CDLADVANCEBLOCK  ExtraTA_CDLBELTHOLD  \\\n",
       "100                         0                        0                    0   \n",
       "101                         0                        0                    0   \n",
       "102                         0                        0                    0   \n",
       "103                         0                        0                    0   \n",
       "104                         0                        0                    0   \n",
       "\n",
       "     ExtraTA_CDLBREAKAWAY  ExtraTA_CDLCLOSINGMARUBOZU  \\\n",
       "100                     0                           0   \n",
       "101                     0                           0   \n",
       "102                     0                         100   \n",
       "103                     0                           0   \n",
       "104                     0                           0   \n",
       "\n",
       "     ExtraTA_CDLCONCEALBABYSWALL  ExtraTA_CDLCOUNTERATTACK  \\\n",
       "100                            0                         0   \n",
       "101                            0                         0   \n",
       "102                            0                         0   \n",
       "103                            0                         0   \n",
       "104                            0                         0   \n",
       "\n",
       "     ExtraTA_CDLDARKCLOUDCOVER  ExtraTA_CDLDOJI  ExtraTA_CDLDOJISTAR  \n",
       "100                          0                0                    0  \n",
       "101                          0                0                    0  \n",
       "102                          0                0                    0  \n",
       "103                          0                0                    0  \n",
       "104                          0              100                    0  "
      ]
     },
     "execution_count": 16,
     "metadata": {},
     "output_type": "execute_result"
    }
   ],
   "source": [
    "data.iloc[100:105,70:80]"
   ]
  },
  {
   "cell_type": "code",
   "execution_count": 17,
   "metadata": {},
   "outputs": [
    {
     "data": {
      "text/html": [
       "<div>\n",
       "<style scoped>\n",
       "    .dataframe tbody tr th:only-of-type {\n",
       "        vertical-align: middle;\n",
       "    }\n",
       "\n",
       "    .dataframe tbody tr th {\n",
       "        vertical-align: top;\n",
       "    }\n",
       "\n",
       "    .dataframe thead th {\n",
       "        text-align: right;\n",
       "    }\n",
       "</style>\n",
       "<table border=\"1\" class=\"dataframe\">\n",
       "  <thead>\n",
       "    <tr style=\"text-align: right;\">\n",
       "      <th></th>\n",
       "      <th>ExtraTA_CDLABANDONEDBABY</th>\n",
       "      <th>ExtraTA_CDLADVANCEBLOCK</th>\n",
       "      <th>ExtraTA_CDLBELTHOLD</th>\n",
       "      <th>ExtraTA_CDLBREAKAWAY</th>\n",
       "      <th>ExtraTA_CDLCLOSINGMARUBOZU</th>\n",
       "      <th>ExtraTA_CDLCONCEALBABYSWALL</th>\n",
       "      <th>ExtraTA_CDLCOUNTERATTACK</th>\n",
       "      <th>ExtraTA_CDLDARKCLOUDCOVER</th>\n",
       "      <th>ExtraTA_CDLDOJI</th>\n",
       "      <th>ExtraTA_CDLDOJISTAR</th>\n",
       "    </tr>\n",
       "  </thead>\n",
       "  <tbody>\n",
       "    <tr>\n",
       "      <th>100</th>\n",
       "      <td>0</td>\n",
       "      <td>0</td>\n",
       "      <td>0</td>\n",
       "      <td>0</td>\n",
       "      <td>0</td>\n",
       "      <td>0</td>\n",
       "      <td>0</td>\n",
       "      <td>0</td>\n",
       "      <td>0</td>\n",
       "      <td>0</td>\n",
       "    </tr>\n",
       "    <tr>\n",
       "      <th>101</th>\n",
       "      <td>0</td>\n",
       "      <td>0</td>\n",
       "      <td>0</td>\n",
       "      <td>0</td>\n",
       "      <td>0</td>\n",
       "      <td>0</td>\n",
       "      <td>0</td>\n",
       "      <td>0</td>\n",
       "      <td>0</td>\n",
       "      <td>0</td>\n",
       "    </tr>\n",
       "    <tr>\n",
       "      <th>102</th>\n",
       "      <td>0</td>\n",
       "      <td>0</td>\n",
       "      <td>0</td>\n",
       "      <td>0</td>\n",
       "      <td>100</td>\n",
       "      <td>0</td>\n",
       "      <td>0</td>\n",
       "      <td>0</td>\n",
       "      <td>0</td>\n",
       "      <td>0</td>\n",
       "    </tr>\n",
       "    <tr>\n",
       "      <th>103</th>\n",
       "      <td>0</td>\n",
       "      <td>0</td>\n",
       "      <td>0</td>\n",
       "      <td>0</td>\n",
       "      <td>0</td>\n",
       "      <td>0</td>\n",
       "      <td>0</td>\n",
       "      <td>0</td>\n",
       "      <td>0</td>\n",
       "      <td>0</td>\n",
       "    </tr>\n",
       "    <tr>\n",
       "      <th>104</th>\n",
       "      <td>0</td>\n",
       "      <td>0</td>\n",
       "      <td>0</td>\n",
       "      <td>0</td>\n",
       "      <td>0</td>\n",
       "      <td>0</td>\n",
       "      <td>0</td>\n",
       "      <td>0</td>\n",
       "      <td>100</td>\n",
       "      <td>0</td>\n",
       "    </tr>\n",
       "  </tbody>\n",
       "</table>\n",
       "</div>"
      ],
      "text/plain": [
       "     ExtraTA_CDLABANDONEDBABY  ExtraTA_CDLADVANCEBLOCK  ExtraTA_CDLBELTHOLD  \\\n",
       "100                         0                        0                    0   \n",
       "101                         0                        0                    0   \n",
       "102                         0                        0                    0   \n",
       "103                         0                        0                    0   \n",
       "104                         0                        0                    0   \n",
       "\n",
       "     ExtraTA_CDLBREAKAWAY  ExtraTA_CDLCLOSINGMARUBOZU  \\\n",
       "100                     0                           0   \n",
       "101                     0                           0   \n",
       "102                     0                         100   \n",
       "103                     0                           0   \n",
       "104                     0                           0   \n",
       "\n",
       "     ExtraTA_CDLCONCEALBABYSWALL  ExtraTA_CDLCOUNTERATTACK  \\\n",
       "100                            0                         0   \n",
       "101                            0                         0   \n",
       "102                            0                         0   \n",
       "103                            0                         0   \n",
       "104                            0                         0   \n",
       "\n",
       "     ExtraTA_CDLDARKCLOUDCOVER  ExtraTA_CDLDOJI  ExtraTA_CDLDOJISTAR  \n",
       "100                          0                0                    0  \n",
       "101                          0                0                    0  \n",
       "102                          0                0                    0  \n",
       "103                          0                0                    0  \n",
       "104                          0              100                    0  "
      ]
     },
     "execution_count": 17,
     "metadata": {},
     "output_type": "execute_result"
    }
   ],
   "source": [
    "data.iloc[100:105,70:80]"
   ]
  },
  {
   "cell_type": "code",
   "execution_count": 18,
   "metadata": {},
   "outputs": [
    {
     "data": {
      "text/html": [
       "<div>\n",
       "<style scoped>\n",
       "    .dataframe tbody tr th:only-of-type {\n",
       "        vertical-align: middle;\n",
       "    }\n",
       "\n",
       "    .dataframe tbody tr th {\n",
       "        vertical-align: top;\n",
       "    }\n",
       "\n",
       "    .dataframe thead th {\n",
       "        text-align: right;\n",
       "    }\n",
       "</style>\n",
       "<table border=\"1\" class=\"dataframe\">\n",
       "  <thead>\n",
       "    <tr style=\"text-align: right;\">\n",
       "      <th></th>\n",
       "      <th>ExtraTA_CDLDRAGONFLYDOJI</th>\n",
       "      <th>ExtraTA_CDLENGULFING</th>\n",
       "      <th>ExtraTA_CDLEVENINGDOJISTAR</th>\n",
       "      <th>ExtraTA_CDLEVENINGSTAR</th>\n",
       "      <th>ExtraTA_CDLGAPSIDESIDEWHITE</th>\n",
       "      <th>ExtraTA_CDLGRAVESTONEDOJI</th>\n",
       "      <th>ExtraTA_CDLHAMMER</th>\n",
       "      <th>ExtraTA_CDLHANGINGMAN</th>\n",
       "      <th>ExtraTA_CDLHARAMI</th>\n",
       "      <th>ExtraTA_CDLHARAMICROSS</th>\n",
       "    </tr>\n",
       "  </thead>\n",
       "  <tbody>\n",
       "    <tr>\n",
       "      <th>100</th>\n",
       "      <td>0</td>\n",
       "      <td>0</td>\n",
       "      <td>0</td>\n",
       "      <td>0</td>\n",
       "      <td>0</td>\n",
       "      <td>0</td>\n",
       "      <td>0</td>\n",
       "      <td>0</td>\n",
       "      <td>0</td>\n",
       "      <td>0</td>\n",
       "    </tr>\n",
       "    <tr>\n",
       "      <th>101</th>\n",
       "      <td>0</td>\n",
       "      <td>0</td>\n",
       "      <td>0</td>\n",
       "      <td>0</td>\n",
       "      <td>0</td>\n",
       "      <td>0</td>\n",
       "      <td>0</td>\n",
       "      <td>0</td>\n",
       "      <td>0</td>\n",
       "      <td>0</td>\n",
       "    </tr>\n",
       "    <tr>\n",
       "      <th>102</th>\n",
       "      <td>0</td>\n",
       "      <td>0</td>\n",
       "      <td>0</td>\n",
       "      <td>0</td>\n",
       "      <td>0</td>\n",
       "      <td>0</td>\n",
       "      <td>0</td>\n",
       "      <td>0</td>\n",
       "      <td>0</td>\n",
       "      <td>0</td>\n",
       "    </tr>\n",
       "    <tr>\n",
       "      <th>103</th>\n",
       "      <td>0</td>\n",
       "      <td>0</td>\n",
       "      <td>0</td>\n",
       "      <td>0</td>\n",
       "      <td>0</td>\n",
       "      <td>0</td>\n",
       "      <td>0</td>\n",
       "      <td>0</td>\n",
       "      <td>0</td>\n",
       "      <td>0</td>\n",
       "    </tr>\n",
       "    <tr>\n",
       "      <th>104</th>\n",
       "      <td>0</td>\n",
       "      <td>0</td>\n",
       "      <td>0</td>\n",
       "      <td>0</td>\n",
       "      <td>0</td>\n",
       "      <td>0</td>\n",
       "      <td>0</td>\n",
       "      <td>0</td>\n",
       "      <td>0</td>\n",
       "      <td>0</td>\n",
       "    </tr>\n",
       "  </tbody>\n",
       "</table>\n",
       "</div>"
      ],
      "text/plain": [
       "     ExtraTA_CDLDRAGONFLYDOJI  ExtraTA_CDLENGULFING  \\\n",
       "100                         0                     0   \n",
       "101                         0                     0   \n",
       "102                         0                     0   \n",
       "103                         0                     0   \n",
       "104                         0                     0   \n",
       "\n",
       "     ExtraTA_CDLEVENINGDOJISTAR  ExtraTA_CDLEVENINGSTAR  \\\n",
       "100                           0                       0   \n",
       "101                           0                       0   \n",
       "102                           0                       0   \n",
       "103                           0                       0   \n",
       "104                           0                       0   \n",
       "\n",
       "     ExtraTA_CDLGAPSIDESIDEWHITE  ExtraTA_CDLGRAVESTONEDOJI  \\\n",
       "100                            0                          0   \n",
       "101                            0                          0   \n",
       "102                            0                          0   \n",
       "103                            0                          0   \n",
       "104                            0                          0   \n",
       "\n",
       "     ExtraTA_CDLHAMMER  ExtraTA_CDLHANGINGMAN  ExtraTA_CDLHARAMI  \\\n",
       "100                  0                      0                  0   \n",
       "101                  0                      0                  0   \n",
       "102                  0                      0                  0   \n",
       "103                  0                      0                  0   \n",
       "104                  0                      0                  0   \n",
       "\n",
       "     ExtraTA_CDLHARAMICROSS  \n",
       "100                       0  \n",
       "101                       0  \n",
       "102                       0  \n",
       "103                       0  \n",
       "104                       0  "
      ]
     },
     "execution_count": 18,
     "metadata": {},
     "output_type": "execute_result"
    }
   ],
   "source": [
    "data.iloc[100:105,80:90]"
   ]
  },
  {
   "cell_type": "code",
   "execution_count": 19,
   "metadata": {},
   "outputs": [
    {
     "data": {
      "text/html": [
       "<div>\n",
       "<style scoped>\n",
       "    .dataframe tbody tr th:only-of-type {\n",
       "        vertical-align: middle;\n",
       "    }\n",
       "\n",
       "    .dataframe tbody tr th {\n",
       "        vertical-align: top;\n",
       "    }\n",
       "\n",
       "    .dataframe thead th {\n",
       "        text-align: right;\n",
       "    }\n",
       "</style>\n",
       "<table border=\"1\" class=\"dataframe\">\n",
       "  <thead>\n",
       "    <tr style=\"text-align: right;\">\n",
       "      <th></th>\n",
       "      <th>ExtraTA_CDLHIGHWAVE</th>\n",
       "      <th>ExtraTA_CDLHIKKAKE</th>\n",
       "      <th>ExtraTA_CDLHIKKAKEMOD</th>\n",
       "      <th>ExtraTA_CDLHOMINGPIGEON</th>\n",
       "      <th>ExtraTA_CDLIDENTICAL3CROWS</th>\n",
       "      <th>ExtraTA_CDLINNECK</th>\n",
       "      <th>ExtraTA_CDLINVERTEDHAMMER</th>\n",
       "      <th>ExtraTA_CDLKICKING</th>\n",
       "      <th>ExtraTA_CDLKICKINGBYLENGTH</th>\n",
       "      <th>ExtraTA_CDLLADDERBOTTOM</th>\n",
       "    </tr>\n",
       "  </thead>\n",
       "  <tbody>\n",
       "    <tr>\n",
       "      <th>100</th>\n",
       "      <td>0</td>\n",
       "      <td>0</td>\n",
       "      <td>0</td>\n",
       "      <td>0</td>\n",
       "      <td>0</td>\n",
       "      <td>0</td>\n",
       "      <td>0</td>\n",
       "      <td>0</td>\n",
       "      <td>0</td>\n",
       "      <td>0</td>\n",
       "    </tr>\n",
       "    <tr>\n",
       "      <th>101</th>\n",
       "      <td>0</td>\n",
       "      <td>0</td>\n",
       "      <td>0</td>\n",
       "      <td>0</td>\n",
       "      <td>0</td>\n",
       "      <td>0</td>\n",
       "      <td>0</td>\n",
       "      <td>0</td>\n",
       "      <td>0</td>\n",
       "      <td>0</td>\n",
       "    </tr>\n",
       "    <tr>\n",
       "      <th>102</th>\n",
       "      <td>0</td>\n",
       "      <td>0</td>\n",
       "      <td>0</td>\n",
       "      <td>0</td>\n",
       "      <td>0</td>\n",
       "      <td>0</td>\n",
       "      <td>0</td>\n",
       "      <td>0</td>\n",
       "      <td>0</td>\n",
       "      <td>0</td>\n",
       "    </tr>\n",
       "    <tr>\n",
       "      <th>103</th>\n",
       "      <td>0</td>\n",
       "      <td>0</td>\n",
       "      <td>0</td>\n",
       "      <td>0</td>\n",
       "      <td>0</td>\n",
       "      <td>0</td>\n",
       "      <td>0</td>\n",
       "      <td>0</td>\n",
       "      <td>0</td>\n",
       "      <td>0</td>\n",
       "    </tr>\n",
       "    <tr>\n",
       "      <th>104</th>\n",
       "      <td>100</td>\n",
       "      <td>0</td>\n",
       "      <td>0</td>\n",
       "      <td>0</td>\n",
       "      <td>0</td>\n",
       "      <td>0</td>\n",
       "      <td>0</td>\n",
       "      <td>0</td>\n",
       "      <td>0</td>\n",
       "      <td>0</td>\n",
       "    </tr>\n",
       "  </tbody>\n",
       "</table>\n",
       "</div>"
      ],
      "text/plain": [
       "     ExtraTA_CDLHIGHWAVE  ExtraTA_CDLHIKKAKE  ExtraTA_CDLHIKKAKEMOD  \\\n",
       "100                    0                   0                      0   \n",
       "101                    0                   0                      0   \n",
       "102                    0                   0                      0   \n",
       "103                    0                   0                      0   \n",
       "104                  100                   0                      0   \n",
       "\n",
       "     ExtraTA_CDLHOMINGPIGEON  ExtraTA_CDLIDENTICAL3CROWS  ExtraTA_CDLINNECK  \\\n",
       "100                        0                           0                  0   \n",
       "101                        0                           0                  0   \n",
       "102                        0                           0                  0   \n",
       "103                        0                           0                  0   \n",
       "104                        0                           0                  0   \n",
       "\n",
       "     ExtraTA_CDLINVERTEDHAMMER  ExtraTA_CDLKICKING  \\\n",
       "100                          0                   0   \n",
       "101                          0                   0   \n",
       "102                          0                   0   \n",
       "103                          0                   0   \n",
       "104                          0                   0   \n",
       "\n",
       "     ExtraTA_CDLKICKINGBYLENGTH  ExtraTA_CDLLADDERBOTTOM  \n",
       "100                           0                        0  \n",
       "101                           0                        0  \n",
       "102                           0                        0  \n",
       "103                           0                        0  \n",
       "104                           0                        0  "
      ]
     },
     "execution_count": 19,
     "metadata": {},
     "output_type": "execute_result"
    }
   ],
   "source": [
    "data.iloc[100:105,90:100]"
   ]
  },
  {
   "cell_type": "code",
   "execution_count": 20,
   "metadata": {},
   "outputs": [
    {
     "data": {
      "text/html": [
       "<div>\n",
       "<style scoped>\n",
       "    .dataframe tbody tr th:only-of-type {\n",
       "        vertical-align: middle;\n",
       "    }\n",
       "\n",
       "    .dataframe tbody tr th {\n",
       "        vertical-align: top;\n",
       "    }\n",
       "\n",
       "    .dataframe thead th {\n",
       "        text-align: right;\n",
       "    }\n",
       "</style>\n",
       "<table border=\"1\" class=\"dataframe\">\n",
       "  <thead>\n",
       "    <tr style=\"text-align: right;\">\n",
       "      <th></th>\n",
       "      <th>ExtraTA_CDLLONGLEGGEDDOJI</th>\n",
       "      <th>ExtraTA_CDLLONGLINE</th>\n",
       "      <th>ExtraTA_CDLMARUBOZU</th>\n",
       "      <th>ExtraTA_CDLMATCHINGLOW</th>\n",
       "      <th>ExtraTA_CDLMATHOLD</th>\n",
       "      <th>ExtraTA_CDLMORNINGDOJISTAR</th>\n",
       "      <th>ExtraTA_CDLMORNINGSTAR</th>\n",
       "      <th>ExtraTA_CDLONNECK</th>\n",
       "      <th>ExtraTA_CDLPIERCING</th>\n",
       "      <th>ExtraTA_CDLRICKSHAWMAN</th>\n",
       "    </tr>\n",
       "  </thead>\n",
       "  <tbody>\n",
       "    <tr>\n",
       "      <th>100</th>\n",
       "      <td>0</td>\n",
       "      <td>0</td>\n",
       "      <td>0</td>\n",
       "      <td>100</td>\n",
       "      <td>0</td>\n",
       "      <td>0</td>\n",
       "      <td>0</td>\n",
       "      <td>0</td>\n",
       "      <td>0</td>\n",
       "      <td>0</td>\n",
       "    </tr>\n",
       "    <tr>\n",
       "      <th>101</th>\n",
       "      <td>0</td>\n",
       "      <td>0</td>\n",
       "      <td>0</td>\n",
       "      <td>0</td>\n",
       "      <td>0</td>\n",
       "      <td>0</td>\n",
       "      <td>0</td>\n",
       "      <td>0</td>\n",
       "      <td>0</td>\n",
       "      <td>0</td>\n",
       "    </tr>\n",
       "    <tr>\n",
       "      <th>102</th>\n",
       "      <td>0</td>\n",
       "      <td>0</td>\n",
       "      <td>0</td>\n",
       "      <td>0</td>\n",
       "      <td>0</td>\n",
       "      <td>0</td>\n",
       "      <td>0</td>\n",
       "      <td>0</td>\n",
       "      <td>0</td>\n",
       "      <td>0</td>\n",
       "    </tr>\n",
       "    <tr>\n",
       "      <th>103</th>\n",
       "      <td>0</td>\n",
       "      <td>0</td>\n",
       "      <td>0</td>\n",
       "      <td>0</td>\n",
       "      <td>0</td>\n",
       "      <td>0</td>\n",
       "      <td>0</td>\n",
       "      <td>0</td>\n",
       "      <td>0</td>\n",
       "      <td>0</td>\n",
       "    </tr>\n",
       "    <tr>\n",
       "      <th>104</th>\n",
       "      <td>100</td>\n",
       "      <td>0</td>\n",
       "      <td>0</td>\n",
       "      <td>0</td>\n",
       "      <td>0</td>\n",
       "      <td>0</td>\n",
       "      <td>0</td>\n",
       "      <td>0</td>\n",
       "      <td>0</td>\n",
       "      <td>100</td>\n",
       "    </tr>\n",
       "  </tbody>\n",
       "</table>\n",
       "</div>"
      ],
      "text/plain": [
       "     ExtraTA_CDLLONGLEGGEDDOJI  ExtraTA_CDLLONGLINE  ExtraTA_CDLMARUBOZU  \\\n",
       "100                          0                    0                    0   \n",
       "101                          0                    0                    0   \n",
       "102                          0                    0                    0   \n",
       "103                          0                    0                    0   \n",
       "104                        100                    0                    0   \n",
       "\n",
       "     ExtraTA_CDLMATCHINGLOW  ExtraTA_CDLMATHOLD  ExtraTA_CDLMORNINGDOJISTAR  \\\n",
       "100                     100                   0                           0   \n",
       "101                       0                   0                           0   \n",
       "102                       0                   0                           0   \n",
       "103                       0                   0                           0   \n",
       "104                       0                   0                           0   \n",
       "\n",
       "     ExtraTA_CDLMORNINGSTAR  ExtraTA_CDLONNECK  ExtraTA_CDLPIERCING  \\\n",
       "100                       0                  0                    0   \n",
       "101                       0                  0                    0   \n",
       "102                       0                  0                    0   \n",
       "103                       0                  0                    0   \n",
       "104                       0                  0                    0   \n",
       "\n",
       "     ExtraTA_CDLRICKSHAWMAN  \n",
       "100                       0  \n",
       "101                       0  \n",
       "102                       0  \n",
       "103                       0  \n",
       "104                     100  "
      ]
     },
     "execution_count": 20,
     "metadata": {},
     "output_type": "execute_result"
    }
   ],
   "source": [
    "data.iloc[100:105,100:110]"
   ]
  },
  {
   "cell_type": "code",
   "execution_count": 21,
   "metadata": {},
   "outputs": [
    {
     "data": {
      "text/html": [
       "<div>\n",
       "<style scoped>\n",
       "    .dataframe tbody tr th:only-of-type {\n",
       "        vertical-align: middle;\n",
       "    }\n",
       "\n",
       "    .dataframe tbody tr th {\n",
       "        vertical-align: top;\n",
       "    }\n",
       "\n",
       "    .dataframe thead th {\n",
       "        text-align: right;\n",
       "    }\n",
       "</style>\n",
       "<table border=\"1\" class=\"dataframe\">\n",
       "  <thead>\n",
       "    <tr style=\"text-align: right;\">\n",
       "      <th></th>\n",
       "      <th>ExtraTA_CDLRISEFALL3METHODS</th>\n",
       "      <th>ExtraTA_CDLSEPARATINGLINES</th>\n",
       "      <th>ExtraTA_CDLSHOOTINGSTAR</th>\n",
       "      <th>ExtraTA_CDLSHORTLINE</th>\n",
       "      <th>ExtraTA_CDLSPINNINGTOP</th>\n",
       "      <th>ExtraTA_CDLSTALLEDPATTERN</th>\n",
       "      <th>ExtraTA_CDLSTICKSANDWICH</th>\n",
       "      <th>ExtraTA_CDLTAKURI</th>\n",
       "      <th>ExtraTA_CDLTASUKIGAP</th>\n",
       "      <th>ExtraTA_CDLTHRUSTING</th>\n",
       "    </tr>\n",
       "  </thead>\n",
       "  <tbody>\n",
       "    <tr>\n",
       "      <th>100</th>\n",
       "      <td>0</td>\n",
       "      <td>0</td>\n",
       "      <td>0</td>\n",
       "      <td>0</td>\n",
       "      <td>0</td>\n",
       "      <td>0</td>\n",
       "      <td>0</td>\n",
       "      <td>0</td>\n",
       "      <td>0</td>\n",
       "      <td>0</td>\n",
       "    </tr>\n",
       "    <tr>\n",
       "      <th>101</th>\n",
       "      <td>0</td>\n",
       "      <td>0</td>\n",
       "      <td>0</td>\n",
       "      <td>0</td>\n",
       "      <td>0</td>\n",
       "      <td>0</td>\n",
       "      <td>0</td>\n",
       "      <td>0</td>\n",
       "      <td>0</td>\n",
       "      <td>0</td>\n",
       "    </tr>\n",
       "    <tr>\n",
       "      <th>102</th>\n",
       "      <td>0</td>\n",
       "      <td>0</td>\n",
       "      <td>0</td>\n",
       "      <td>0</td>\n",
       "      <td>0</td>\n",
       "      <td>0</td>\n",
       "      <td>0</td>\n",
       "      <td>0</td>\n",
       "      <td>0</td>\n",
       "      <td>0</td>\n",
       "    </tr>\n",
       "    <tr>\n",
       "      <th>103</th>\n",
       "      <td>0</td>\n",
       "      <td>0</td>\n",
       "      <td>0</td>\n",
       "      <td>0</td>\n",
       "      <td>0</td>\n",
       "      <td>0</td>\n",
       "      <td>0</td>\n",
       "      <td>0</td>\n",
       "      <td>0</td>\n",
       "      <td>0</td>\n",
       "    </tr>\n",
       "    <tr>\n",
       "      <th>104</th>\n",
       "      <td>0</td>\n",
       "      <td>0</td>\n",
       "      <td>0</td>\n",
       "      <td>0</td>\n",
       "      <td>100</td>\n",
       "      <td>0</td>\n",
       "      <td>0</td>\n",
       "      <td>0</td>\n",
       "      <td>0</td>\n",
       "      <td>0</td>\n",
       "    </tr>\n",
       "  </tbody>\n",
       "</table>\n",
       "</div>"
      ],
      "text/plain": [
       "     ExtraTA_CDLRISEFALL3METHODS  ExtraTA_CDLSEPARATINGLINES  \\\n",
       "100                            0                           0   \n",
       "101                            0                           0   \n",
       "102                            0                           0   \n",
       "103                            0                           0   \n",
       "104                            0                           0   \n",
       "\n",
       "     ExtraTA_CDLSHOOTINGSTAR  ExtraTA_CDLSHORTLINE  ExtraTA_CDLSPINNINGTOP  \\\n",
       "100                        0                     0                       0   \n",
       "101                        0                     0                       0   \n",
       "102                        0                     0                       0   \n",
       "103                        0                     0                       0   \n",
       "104                        0                     0                     100   \n",
       "\n",
       "     ExtraTA_CDLSTALLEDPATTERN  ExtraTA_CDLSTICKSANDWICH  ExtraTA_CDLTAKURI  \\\n",
       "100                          0                         0                  0   \n",
       "101                          0                         0                  0   \n",
       "102                          0                         0                  0   \n",
       "103                          0                         0                  0   \n",
       "104                          0                         0                  0   \n",
       "\n",
       "     ExtraTA_CDLTASUKIGAP  ExtraTA_CDLTHRUSTING  \n",
       "100                     0                     0  \n",
       "101                     0                     0  \n",
       "102                     0                     0  \n",
       "103                     0                     0  \n",
       "104                     0                     0  "
      ]
     },
     "execution_count": 21,
     "metadata": {},
     "output_type": "execute_result"
    }
   ],
   "source": [
    "data.iloc[100:105,110:120]"
   ]
  },
  {
   "cell_type": "code",
   "execution_count": 22,
   "metadata": {},
   "outputs": [
    {
     "data": {
      "text/html": [
       "<div>\n",
       "<style scoped>\n",
       "    .dataframe tbody tr th:only-of-type {\n",
       "        vertical-align: middle;\n",
       "    }\n",
       "\n",
       "    .dataframe tbody tr th {\n",
       "        vertical-align: top;\n",
       "    }\n",
       "\n",
       "    .dataframe thead th {\n",
       "        text-align: right;\n",
       "    }\n",
       "</style>\n",
       "<table border=\"1\" class=\"dataframe\">\n",
       "  <thead>\n",
       "    <tr style=\"text-align: right;\">\n",
       "      <th></th>\n",
       "      <th>ExtraTA_CDLTRISTAR</th>\n",
       "      <th>ExtraTA_CDLUNIQUE3RIVER</th>\n",
       "      <th>ExtraTA_CDLUPSIDEGAP2CROWS</th>\n",
       "      <th>ExtraTA_CDLXSIDEGAP3METHODS</th>\n",
       "    </tr>\n",
       "  </thead>\n",
       "  <tbody>\n",
       "    <tr>\n",
       "      <th>100</th>\n",
       "      <td>0</td>\n",
       "      <td>0</td>\n",
       "      <td>0</td>\n",
       "      <td>0</td>\n",
       "    </tr>\n",
       "    <tr>\n",
       "      <th>101</th>\n",
       "      <td>0</td>\n",
       "      <td>0</td>\n",
       "      <td>0</td>\n",
       "      <td>0</td>\n",
       "    </tr>\n",
       "    <tr>\n",
       "      <th>102</th>\n",
       "      <td>0</td>\n",
       "      <td>0</td>\n",
       "      <td>0</td>\n",
       "      <td>0</td>\n",
       "    </tr>\n",
       "    <tr>\n",
       "      <th>103</th>\n",
       "      <td>0</td>\n",
       "      <td>0</td>\n",
       "      <td>0</td>\n",
       "      <td>0</td>\n",
       "    </tr>\n",
       "    <tr>\n",
       "      <th>104</th>\n",
       "      <td>0</td>\n",
       "      <td>0</td>\n",
       "      <td>0</td>\n",
       "      <td>0</td>\n",
       "    </tr>\n",
       "  </tbody>\n",
       "</table>\n",
       "</div>"
      ],
      "text/plain": [
       "     ExtraTA_CDLTRISTAR  ExtraTA_CDLUNIQUE3RIVER  ExtraTA_CDLUPSIDEGAP2CROWS  \\\n",
       "100                   0                        0                           0   \n",
       "101                   0                        0                           0   \n",
       "102                   0                        0                           0   \n",
       "103                   0                        0                           0   \n",
       "104                   0                        0                           0   \n",
       "\n",
       "     ExtraTA_CDLXSIDEGAP3METHODS  \n",
       "100                            0  \n",
       "101                            0  \n",
       "102                            0  \n",
       "103                            0  \n",
       "104                            0  "
      ]
     },
     "execution_count": 22,
     "metadata": {},
     "output_type": "execute_result"
    }
   ],
   "source": [
    "data.iloc[100:105,120:126]"
   ]
  },
  {
   "cell_type": "markdown",
   "metadata": {},
   "source": [
    "## 2.2 查看空值"
   ]
  },
  {
   "cell_type": "code",
   "execution_count": 23,
   "metadata": {
    "hide_input": true
   },
   "outputs": [
    {
     "data": {
      "text/plain": [
       "ExtraTA_FASTD             6\n",
       "ExtraTA_FASTK             6\n",
       "ExtraTA_SLOWD             8\n",
       "ExtraTA_SLOWK             8\n",
       "ExtraTA_ROCR             10\n",
       "ExtraTA_ROCP             10\n",
       "ExtraTA_ROC              10\n",
       "ExtraTA_MOM              10\n",
       "ExtraTA_MINUS_DM         13\n",
       "ExtraTA_PLUS_DM          13\n",
       "ExtraTA_WILLR            13\n",
       "ExtraTA_CCI              13\n",
       "ExtraTA_CMO              14\n",
       "ExtraTA_RSI              14\n",
       "ExtraTA_AROON_UP         14\n",
       "ExtraTA_PLUS_DI          14\n",
       "ExtraTA_AROONOSC         14\n",
       "ExtraTA_AROON_DOWN       14\n",
       "ExtraTA_MINUS_DI         14\n",
       "ExtraTA_DX               14\n",
       "ExtraTA_FASTDRSI         20\n",
       "ExtraTA_FASTKRSI         20\n",
       "ExtraTA_PPO              25\n",
       "ExtraTA_APO              25\n",
       "ExtraTA_ADX              27\n",
       "ExtraTA_ULTOSC           28\n",
       "ExtraTA_MACD             33\n",
       "ExtraTA_MACD_SIGNAL      33\n",
       "ExtraTA_MACD_HIST        33\n",
       "ExtraTA_ADXR             40\n",
       "ExtraTA_TRIX             88\n",
       "CorrImbL1Mid           2277\n",
       "CorrPV                 2278\n",
       "CorrPOI                2279\n",
       "CorrAutoRtn            2382\n",
       "dtype: int64"
      ]
     },
     "execution_count": 23,
     "metadata": {},
     "output_type": "execute_result"
    }
   ],
   "source": [
    "missing=data.isnull().sum()\n",
    "missing[data.isnull().sum()!=0].sort_values()"
   ]
  },
  {
   "cell_type": "markdown",
   "metadata": {},
   "source": [
    "前88分钟有很多预热特征值为0 我们从第100个样本开始划分训练集和测试集"
   ]
  },
  {
   "cell_type": "markdown",
   "metadata": {},
   "source": [
    "## 2.3 偏度峰度"
   ]
  },
  {
   "cell_type": "code",
   "execution_count": 25,
   "metadata": {
    "hide_input": true
   },
   "outputs": [
    {
     "data": {
      "text/html": [
       "<div>\n",
       "<style scoped>\n",
       "    .dataframe tbody tr th:only-of-type {\n",
       "        vertical-align: middle;\n",
       "    }\n",
       "\n",
       "    .dataframe tbody tr th {\n",
       "        vertical-align: top;\n",
       "    }\n",
       "\n",
       "    .dataframe thead th {\n",
       "        text-align: right;\n",
       "    }\n",
       "</style>\n",
       "<table border=\"1\" class=\"dataframe\">\n",
       "  <thead>\n",
       "    <tr style=\"text-align: right;\">\n",
       "      <th></th>\n",
       "      <th>kur</th>\n",
       "    </tr>\n",
       "  </thead>\n",
       "  <tbody>\n",
       "    <tr>\n",
       "      <th>ExtraTA_DX</th>\n",
       "      <td>0.161023</td>\n",
       "    </tr>\n",
       "    <tr>\n",
       "      <th>CorrPV</th>\n",
       "      <td>0.194370</td>\n",
       "    </tr>\n",
       "    <tr>\n",
       "      <th>ExtraTA_CCI</th>\n",
       "      <td>0.248099</td>\n",
       "    </tr>\n",
       "    <tr>\n",
       "      <th>CorrPOI</th>\n",
       "      <td>0.673009</td>\n",
       "    </tr>\n",
       "    <tr>\n",
       "      <th>CorrAutoRtn</th>\n",
       "      <td>0.691615</td>\n",
       "    </tr>\n",
       "    <tr>\n",
       "      <th>ExtraTA_RSI</th>\n",
       "      <td>0.878922</td>\n",
       "    </tr>\n",
       "    <tr>\n",
       "      <th>ExtraTA_CMO</th>\n",
       "      <td>0.878922</td>\n",
       "    </tr>\n",
       "    <tr>\n",
       "      <th>ExtraTA_MINUS_DI</th>\n",
       "      <td>1.606222</td>\n",
       "    </tr>\n",
       "    <tr>\n",
       "      <th>ExtraTA_ULTOSC</th>\n",
       "      <td>2.187345</td>\n",
       "    </tr>\n",
       "    <tr>\n",
       "      <th>ExtraTA_ADX</th>\n",
       "      <td>2.517628</td>\n",
       "    </tr>\n",
       "    <tr>\n",
       "      <th>ImbL1Std</th>\n",
       "      <td>2.758985</td>\n",
       "    </tr>\n",
       "    <tr>\n",
       "      <th>ExtraTA_ADXR</th>\n",
       "      <td>3.615711</td>\n",
       "    </tr>\n",
       "    <tr>\n",
       "      <th>ExtraTA_PLUS_DI</th>\n",
       "      <td>5.318963</td>\n",
       "    </tr>\n",
       "    <tr>\n",
       "      <th>ImbL1Mean</th>\n",
       "      <td>5.399358</td>\n",
       "    </tr>\n",
       "    <tr>\n",
       "      <th>ImbL1Skew</th>\n",
       "      <td>8.598846</td>\n",
       "    </tr>\n",
       "    <tr>\n",
       "      <th>SpreadRatio</th>\n",
       "      <td>9.300747</td>\n",
       "    </tr>\n",
       "    <tr>\n",
       "      <th>ExtraTA_TRIX</th>\n",
       "      <td>9.881688</td>\n",
       "    </tr>\n",
       "  </tbody>\n",
       "</table>\n",
       "</div>"
      ],
      "text/plain": [
       "                       kur\n",
       "ExtraTA_DX        0.161023\n",
       "CorrPV            0.194370\n",
       "ExtraTA_CCI       0.248099\n",
       "CorrPOI           0.673009\n",
       "CorrAutoRtn       0.691615\n",
       "ExtraTA_RSI       0.878922\n",
       "ExtraTA_CMO       0.878922\n",
       "ExtraTA_MINUS_DI  1.606222\n",
       "ExtraTA_ULTOSC    2.187345\n",
       "ExtraTA_ADX       2.517628\n",
       "ImbL1Std          2.758985\n",
       "ExtraTA_ADXR      3.615711\n",
       "ExtraTA_PLUS_DI   5.318963\n",
       "ImbL1Mean         5.399358\n",
       "ImbL1Skew         8.598846\n",
       "SpreadRatio       9.300747\n",
       "ExtraTA_TRIX      9.881688"
      ]
     },
     "execution_count": 25,
     "metadata": {},
     "output_type": "execute_result"
    }
   ],
   "source": [
    "data.iloc[:,10:62].skew()\n",
    "kurtosis = data.iloc[:,10:62].kurtosis().sort_values().to_frame(name=\"kur\")\n",
    "features = kurtosis.query(' 0 < kur < 10')\n",
    "features"
   ]
  },
  {
   "cell_type": "markdown",
   "metadata": {},
   "source": [
    "我们获取Kurtosis在0到10直接的特征。如果Kurtosis太小，则特征过于简单，如果Kurtosis太大，则会导致交易频繁"
   ]
  },
  {
   "cell_type": "markdown",
   "metadata": {},
   "source": [
    "## 2.4 弱平稳性检验"
   ]
  },
  {
   "cell_type": "code",
   "execution_count": 26,
   "metadata": {},
   "outputs": [],
   "source": [
    "import statsmodels.tsa.stattools as ts\n",
    "import math"
   ]
  },
  {
   "cell_type": "code",
   "execution_count": 27,
   "metadata": {},
   "outputs": [],
   "source": [
    "features = features.drop(['CorrPV','CorrPOI','CorrAutoRtn'], axis=0)"
   ]
  },
  {
   "cell_type": "code",
   "execution_count": 28,
   "metadata": {},
   "outputs": [
    {
     "name": "stdout",
     "output_type": "stream",
     "text": [
      "ExtraTA_DX adf (-34.42468598531413, 0.0, 42, 74541, {'1%': -3.9588914563984674, '5%': -3.4105489007556917, '10%': -3.1270846876572573})\n",
      "ExtraTA_DX kpss (0.19614087929120516, 0.1, 63, {'10%': 0.347, '5%': 0.463, '2.5%': 0.574, '1%': 0.739})\n"
     ]
    },
    {
     "name": "stderr",
     "output_type": "stream",
     "text": [
      "C:\\Users\\1997a\\anaconda3\\lib\\site-packages\\statsmodels\\tsa\\stattools.py:1687: InterpolationWarning: p-value is greater than the indicated p-value\n",
      "  warn(\"p-value is greater than the indicated p-value\", InterpolationWarning)\n"
     ]
    },
    {
     "name": "stdout",
     "output_type": "stream",
     "text": [
      "ExtraTA_CCI adf (-40.61430933866765, 0.0, 42, 74541, {'1%': -3.9588914563984674, '5%': -3.4105489007556917, '10%': -3.1270846876572573})\n",
      "ExtraTA_CCI kpss (0.3176713324894966, 0.1, 63, {'10%': 0.347, '5%': 0.463, '2.5%': 0.574, '1%': 0.739})\n"
     ]
    },
    {
     "name": "stderr",
     "output_type": "stream",
     "text": [
      "C:\\Users\\1997a\\anaconda3\\lib\\site-packages\\statsmodels\\tsa\\stattools.py:1687: InterpolationWarning: p-value is greater than the indicated p-value\n",
      "  warn(\"p-value is greater than the indicated p-value\", InterpolationWarning)\n"
     ]
    },
    {
     "name": "stdout",
     "output_type": "stream",
     "text": [
      "ExtraTA_RSI adf (-30.97816376373609, 0.0, 42, 74541, {'1%': -3.9588914563984674, '5%': -3.4105489007556917, '10%': -3.1270846876572573})\n",
      "ExtraTA_RSI kpss (1.0583345444230468, 0.01, 63, {'10%': 0.347, '5%': 0.463, '2.5%': 0.574, '1%': 0.739})\n"
     ]
    },
    {
     "name": "stderr",
     "output_type": "stream",
     "text": [
      "C:\\Users\\1997a\\anaconda3\\lib\\site-packages\\statsmodels\\tsa\\stattools.py:1685: InterpolationWarning: p-value is smaller than the indicated p-value\n",
      "  warn(\"p-value is smaller than the indicated p-value\", InterpolationWarning)\n"
     ]
    },
    {
     "name": "stdout",
     "output_type": "stream",
     "text": [
      "ExtraTA_CMO adf (-30.978163763732372, 0.0, 42, 74541, {'1%': -3.9588914563984674, '5%': -3.4105489007556917, '10%': -3.1270846876572573})\n",
      "ExtraTA_CMO kpss (1.058334544423061, 0.01, 63, {'10%': 0.347, '5%': 0.463, '2.5%': 0.574, '1%': 0.739})\n"
     ]
    },
    {
     "name": "stderr",
     "output_type": "stream",
     "text": [
      "C:\\Users\\1997a\\anaconda3\\lib\\site-packages\\statsmodels\\tsa\\stattools.py:1685: InterpolationWarning: p-value is smaller than the indicated p-value\n",
      "  warn(\"p-value is smaller than the indicated p-value\", InterpolationWarning)\n"
     ]
    },
    {
     "name": "stdout",
     "output_type": "stream",
     "text": [
      "ExtraTA_MINUS_DI adf (-31.32634073317764, 0.0, 42, 74541, {'1%': -3.9588914563984674, '5%': -3.4105489007556917, '10%': -3.1270846876572573})\n",
      "ExtraTA_MINUS_DI kpss (0.44204324372856274, 0.059033084599757445, 63, {'10%': 0.347, '5%': 0.463, '2.5%': 0.574, '1%': 0.739})\n",
      "ExtraTA_ULTOSC adf (-29.515521853608554, 0.0, 42, 74541, {'1%': -3.9588914563984674, '5%': -3.4105489007556917, '10%': -3.1270846876572573})\n",
      "ExtraTA_ULTOSC kpss (0.2553187862706566, 0.1, 63, {'10%': 0.347, '5%': 0.463, '2.5%': 0.574, '1%': 0.739})\n"
     ]
    },
    {
     "name": "stderr",
     "output_type": "stream",
     "text": [
      "C:\\Users\\1997a\\anaconda3\\lib\\site-packages\\statsmodels\\tsa\\stattools.py:1687: InterpolationWarning: p-value is greater than the indicated p-value\n",
      "  warn(\"p-value is greater than the indicated p-value\", InterpolationWarning)\n"
     ]
    },
    {
     "name": "stdout",
     "output_type": "stream",
     "text": [
      "ExtraTA_ADX adf (-28.084835545345125, 0.0, 42, 74541, {'1%': -3.9588914563984674, '5%': -3.4105489007556917, '10%': -3.1270846876572573})\n",
      "ExtraTA_ADX kpss (0.2234520882699821, 0.1, 63, {'10%': 0.347, '5%': 0.463, '2.5%': 0.574, '1%': 0.739})\n"
     ]
    },
    {
     "name": "stderr",
     "output_type": "stream",
     "text": [
      "C:\\Users\\1997a\\anaconda3\\lib\\site-packages\\statsmodels\\tsa\\stattools.py:1687: InterpolationWarning: p-value is greater than the indicated p-value\n",
      "  warn(\"p-value is greater than the indicated p-value\", InterpolationWarning)\n"
     ]
    },
    {
     "name": "stdout",
     "output_type": "stream",
     "text": [
      "ImbL1Std adf (-17.89881636017589, 0.0, 42, 74541, {'1%': -3.9588914563984674, '5%': -3.4105489007556917, '10%': -3.1270846876572573})\n",
      "ImbL1Std kpss (12.80525052931786, 0.01, 63, {'10%': 0.347, '5%': 0.463, '2.5%': 0.574, '1%': 0.739})\n"
     ]
    },
    {
     "name": "stderr",
     "output_type": "stream",
     "text": [
      "C:\\Users\\1997a\\anaconda3\\lib\\site-packages\\statsmodels\\tsa\\stattools.py:1685: InterpolationWarning: p-value is smaller than the indicated p-value\n",
      "  warn(\"p-value is smaller than the indicated p-value\", InterpolationWarning)\n"
     ]
    },
    {
     "name": "stdout",
     "output_type": "stream",
     "text": [
      "ExtraTA_ADXR adf (-28.08636791781327, 0.0, 42, 74541, {'1%': -3.9588914563984674, '5%': -3.4105489007556917, '10%': -3.1270846876572573})\n",
      "ExtraTA_ADXR kpss (0.2291807006146078, 0.1, 63, {'10%': 0.347, '5%': 0.463, '2.5%': 0.574, '1%': 0.739})\n"
     ]
    },
    {
     "name": "stderr",
     "output_type": "stream",
     "text": [
      "C:\\Users\\1997a\\anaconda3\\lib\\site-packages\\statsmodels\\tsa\\stattools.py:1687: InterpolationWarning: p-value is greater than the indicated p-value\n",
      "  warn(\"p-value is greater than the indicated p-value\", InterpolationWarning)\n"
     ]
    },
    {
     "name": "stdout",
     "output_type": "stream",
     "text": [
      "ExtraTA_PLUS_DI adf (-28.218923935752855, 0.0, 42, 74541, {'1%': -3.9588914563984674, '5%': -3.4105489007556917, '10%': -3.1270846876572573})\n",
      "ExtraTA_PLUS_DI kpss (2.3708982021174227, 0.01, 63, {'10%': 0.347, '5%': 0.463, '2.5%': 0.574, '1%': 0.739})\n"
     ]
    },
    {
     "name": "stderr",
     "output_type": "stream",
     "text": [
      "C:\\Users\\1997a\\anaconda3\\lib\\site-packages\\statsmodels\\tsa\\stattools.py:1685: InterpolationWarning: p-value is smaller than the indicated p-value\n",
      "  warn(\"p-value is smaller than the indicated p-value\", InterpolationWarning)\n"
     ]
    },
    {
     "name": "stdout",
     "output_type": "stream",
     "text": [
      "ImbL1Mean adf (-19.491197554200163, 0.0, 42, 74541, {'1%': -3.9588914563984674, '5%': -3.4105489007556917, '10%': -3.1270846876572573})\n",
      "ImbL1Mean kpss (0.4346629783320622, 0.06221423347755941, 63, {'10%': 0.347, '5%': 0.463, '2.5%': 0.574, '1%': 0.739})\n",
      "ImbL1Skew adf (-41.32245796313968, 0.0, 42, 74541, {'1%': -3.9588914563984674, '5%': -3.4105489007556917, '10%': -3.1270846876572573})\n",
      "ImbL1Skew kpss (0.39066494723669204, 0.08117890205314998, 63, {'10%': 0.347, '5%': 0.463, '2.5%': 0.574, '1%': 0.739})\n",
      "SpreadRatio adf (-10.404485184417235, 3.3240921665595177e-16, 42, 74541, {'1%': -3.9588914563984674, '5%': -3.4105489007556917, '10%': -3.1270846876572573})\n",
      "SpreadRatio kpss (42.602668871950826, 0.01, 63, {'10%': 0.347, '5%': 0.463, '2.5%': 0.574, '1%': 0.739})\n"
     ]
    },
    {
     "name": "stderr",
     "output_type": "stream",
     "text": [
      "C:\\Users\\1997a\\anaconda3\\lib\\site-packages\\statsmodels\\tsa\\stattools.py:1685: InterpolationWarning: p-value is smaller than the indicated p-value\n",
      "  warn(\"p-value is smaller than the indicated p-value\", InterpolationWarning)\n"
     ]
    },
    {
     "name": "stdout",
     "output_type": "stream",
     "text": [
      "ExtraTA_TRIX adf (-24.005201391295763, 0.0, 42, 74541, {'1%': -3.9588914563984674, '5%': -3.4105489007556917, '10%': -3.1270846876572573})\n",
      "ExtraTA_TRIX kpss (0.887714631442151, 0.01, 63, {'10%': 0.347, '5%': 0.463, '2.5%': 0.574, '1%': 0.739})\n"
     ]
    },
    {
     "name": "stderr",
     "output_type": "stream",
     "text": [
      "C:\\Users\\1997a\\anaconda3\\lib\\site-packages\\statsmodels\\tsa\\stattools.py:1685: InterpolationWarning: p-value is smaller than the indicated p-value\n",
      "  warn(\"p-value is smaller than the indicated p-value\", InterpolationWarning)\n"
     ]
    }
   ],
   "source": [
    "for i in range(len(features)):\n",
    "    #result[i] = ts.adfuller(data.iloc[:,i], maxlag=int(pow(len(data)-1,(1/3))), regression='ct', autolag=None)\n",
    "    print(features.index[i], \"adf\",ts.adfuller(data.loc[100:,features.index[i]], maxlag=int(pow(len(data)-1,(1/3))), regression='ct', autolag=None))\n",
    "    #ts.kpss(data.iloc[:,10], regression='c', lags=int(3*math.sqrt(len(data))/13))\n",
    "    print(features.index[i], \"kpss\", ts.kpss(data.loc[100:,features.index[i]], regression='c', lags=int(3*math.sqrt(len(data))/13)))"
   ]
  },
  {
   "cell_type": "markdown",
   "metadata": {},
   "source": [
    "有些特征KPSS显著，但是看了ADF是平稳的。"
   ]
  },
  {
   "cell_type": "markdown",
   "metadata": {},
   "source": [
    "## 2.5 对数收益率"
   ]
  },
  {
   "cell_type": "code",
   "execution_count": 29,
   "metadata": {
    "hide_input": true
   },
   "outputs": [
    {
     "data": {
      "text/plain": [
       "0       -0.000135\n",
       "1       -0.000271\n",
       "2       -0.000812\n",
       "3       -0.001220\n",
       "4       -0.001628\n",
       "           ...   \n",
       "74679   -0.000613\n",
       "74680   -0.000409\n",
       "74681    0.000817\n",
       "74682    0.000408\n",
       "74683   -0.000204\n",
       "Length: 74684, dtype: float64"
      ]
     },
     "execution_count": 29,
     "metadata": {},
     "output_type": "execute_result"
    }
   ],
   "source": [
    "ret = (np.log(data['ClosePrice']) - np.log(data['OpenPrice'])).reset_index(drop = True)\n",
    "ret"
   ]
  },
  {
   "cell_type": "markdown",
   "metadata": {},
   "source": [
    "非零对数收益率"
   ]
  },
  {
   "cell_type": "code",
   "execution_count": 30,
   "metadata": {
    "hide_input": true
   },
   "outputs": [
    {
     "data": {
      "text/plain": [
       "0       -0.000135\n",
       "1       -0.000271\n",
       "2       -0.000812\n",
       "3       -0.001220\n",
       "4       -0.001628\n",
       "           ...   \n",
       "74679   -0.000613\n",
       "74680   -0.000409\n",
       "74681    0.000817\n",
       "74682    0.000408\n",
       "74683   -0.000204\n",
       "Name: ret, Length: 61381, dtype: float64"
      ]
     },
     "execution_count": 30,
     "metadata": {},
     "output_type": "execute_result"
    }
   ],
   "source": [
    "ret_nonZero = ret.to_frame()\n",
    "ret_nonZero['ret'] = ret_nonZero.iloc[:,0]\n",
    "ret_nonZero = ret_nonZero.query('ret != 0')#.reset_index(drop = True)\n",
    "ret_nonZero['ret'] "
   ]
  },
  {
   "cell_type": "markdown",
   "metadata": {},
   "source": [
    "## 2.6 成交均价走势"
   ]
  },
  {
   "cell_type": "code",
   "execution_count": 31,
   "metadata": {
    "hide_input": true
   },
   "outputs": [
    {
     "data": {
      "image/png": "[encoded data removed]",
      "text/plain": [
       "<Figure size 864x432 with 1 Axes>"
      ]
     },
     "metadata": {
      "needs_background": "light"
     },
     "output_type": "display_data"
    }
   ],
   "source": [
    "fig, ax = plt.subplots(figsize=(12, 6))\n",
    "\n",
    "ax.plot((pd.Series(data['ClosePrice'])), lw=3, color='red')\n",
    "ax.set_title (\"Ag\", fontsize=22);\n",
    "ax.set_ylabel (\"Close Price per min\", fontsize=18);\n",
    "\n",
    "gc.collect();"
   ]
  },
  {
   "cell_type": "markdown",
   "metadata": {},
   "source": [
    "## 2.7 每分钟对数收益率"
   ]
  },
  {
   "cell_type": "code",
   "execution_count": 32,
   "metadata": {
    "hide_input": true
   },
   "outputs": [
    {
     "data": {
      "image/png": "[encoded data removed]",
      "text/plain": [
       "<Figure size 864x432 with 1 Axes>"
      ]
     },
     "metadata": {
      "needs_background": "light"
     },
     "output_type": "display_data"
    }
   ],
   "source": [
    "fig, ax = plt.subplots(figsize=(12, 6))\n",
    "\n",
    "ax.plot((pd.Series(ret)), lw=1, color='green')\n",
    "ax.axhline(y=0, linestyle='--', alpha=0.3, c='green', lw=2)\n",
    "ax.set_title (\"Ag\", fontsize=22);\n",
    "ax.set_ylabel (\"Avg Log Return\", fontsize=18);\n",
    "\n",
    "gc.collect();"
   ]
  },
  {
   "cell_type": "markdown",
   "metadata": {},
   "source": [
    "## 2.8 每分钟涨跌概率"
   ]
  },
  {
   "cell_type": "code",
   "execution_count": 33,
   "metadata": {
    "hide_input": true
   },
   "outputs": [
    {
     "name": "stdout",
     "output_type": "stream",
     "text": [
      "Ag每分钟涨的概率 0.41176155535322156\n"
     ]
    }
   ],
   "source": [
    "print(\"Ag每分钟涨的概率\",sum(ret>0)/len(ret))"
   ]
  },
  {
   "cell_type": "code",
   "execution_count": 34,
   "metadata": {
    "hide_input": true
   },
   "outputs": [
    {
     "name": "stdout",
     "output_type": "stream",
     "text": [
      "Ag 每分钟收益率为0的情况 0.17812382839697927\n"
     ]
    }
   ],
   "source": [
    "print('Ag 每分钟收益率为0的情况',sum(ret == 0)/len(ret))"
   ]
  },
  {
   "cell_type": "code",
   "execution_count": 35,
   "metadata": {
    "hide_input": true
   },
   "outputs": [
    {
     "data": {
      "image/png": "[encoded data removed]",
      "text/plain": [
       "<Figure size 864x360 with 1 Axes>"
      ]
     },
     "metadata": {
      "needs_background": "light"
     },
     "output_type": "display_data"
    }
   ],
   "source": [
    "plt.figure(figsize = (12,5))\n",
    "ax = sns.distplot(ret , \n",
    "             bins=3000, \n",
    "             kde_kws={\"clip\":(-0.03,0.03)}, \n",
    "             hist_kws={\"range\":(-0.03,0.03)},\n",
    "             color='darkcyan', \n",
    "             kde=False);\n",
    "values = np.array([rec.get_height() for rec in ax.patches])\n",
    "norm = plt.Normalize(values.min(), values.max())\n",
    "colors = plt.cm.jet(norm(values))\n",
    "for rec, col in zip(ax.patches, colors):\n",
    "    rec.set_color(col)\n",
    "plt.xlabel(\"Histogram of the resp values\", size=14)\n",
    "plt.show();\n",
    "#del values\n",
    "gc.collect();"
   ]
  },
  {
   "cell_type": "markdown",
   "metadata": {},
   "source": [
    "收益率17%情况为0导致收益率分布非常尖峰态"
   ]
  },
  {
   "cell_type": "code",
   "execution_count": 36,
   "metadata": {
    "hide_input": true
   },
   "outputs": [
    {
     "name": "stdout",
     "output_type": "stream",
     "text": [
      "The minimum value for ret is: -0.02315\n",
      "The maximum value for ret is:  0.01225\n"
     ]
    }
   ],
   "source": [
    "min_resp = ret.min()\n",
    "print('The minimum value for ret is: %.5f' % min_resp)\n",
    "max_resp = ret.max()\n",
    "print('The maximum value for ret is:  %.5f' % max_resp)"
   ]
  },
  {
   "cell_type": "code",
   "execution_count": 37,
   "metadata": {
    "hide_input": true
   },
   "outputs": [
    {
     "name": "stdout",
     "output_type": "stream",
     "text": [
      "Skew of resp is:      -0.93\n",
      "Kurtosis of resp is: 31.12\n"
     ]
    }
   ],
   "source": [
    "print(\"Skew of resp is:      %.2f\" %ret.skew() )\n",
    "print(\"Kurtosis of resp is: %.2f\"  %ret.kurtosis() )"
   ]
  },
  {
   "cell_type": "markdown",
   "metadata": {},
   "source": [
    "删除收益率为0的收益率分布，依然是尖峰态，有许多收益靠近0，"
   ]
  },
  {
   "cell_type": "code",
   "execution_count": 38,
   "metadata": {
    "hide_input": true
   },
   "outputs": [
    {
     "data": {
      "image/png": "[encoded data removed]",
      "text/plain": [
       "<Figure size 864x360 with 1 Axes>"
      ]
     },
     "metadata": {
      "needs_background": "light"
     },
     "output_type": "display_data"
    }
   ],
   "source": [
    "plt.figure(figsize = (12,5))\n",
    "ax = sns.distplot(ret_nonZero['ret'] , \n",
    "             bins=3000, \n",
    "             kde_kws={\"clip\":(-0.03,0.03)}, \n",
    "             hist_kws={\"range\":(-0.03,0.03)},\n",
    "             color='darkcyan', \n",
    "             kde=False);\n",
    "values = np.array([rec.get_height() for rec in ax.patches])\n",
    "norm = plt.Normalize(values.min(), values.max())\n",
    "colors = plt.cm.jet(norm(values))\n",
    "for rec, col in zip(ax.patches, colors):\n",
    "    rec.set_color(col)\n",
    "plt.xlabel(\"Histogram of the resp(non-zero) values\", size=14)\n",
    "plt.show();\n",
    "#del values\n",
    "gc.collect();"
   ]
  },
  {
   "cell_type": "code",
   "execution_count": 39,
   "metadata": {
    "hide_input": true
   },
   "outputs": [
    {
     "name": "stdout",
     "output_type": "stream",
     "text": [
      "Skew of resp(non-zero) is:      -0.85\n",
      "Kurtosis of resp(non-zero) is: 25.04\n"
     ]
    }
   ],
   "source": [
    "print(\"Skew of resp(non-zero) is:      %.2f\" %ret_nonZero['ret'].skew() )\n",
    "print(\"Kurtosis of resp(non-zero) is: %.2f\"  %ret_nonZero['ret'].kurtosis() )"
   ]
  },
  {
   "cell_type": "markdown",
   "metadata": {},
   "source": [
    "## 2.9 特征24：NetBuyVolumn特征93%是0"
   ]
  },
  {
   "cell_type": "code",
   "execution_count": 40,
   "metadata": {
    "hide_input": true
   },
   "outputs": [
    {
     "data": {
      "text/plain": [
       " 0      69545\n",
       "-1       1424\n",
       " 1       1152\n",
       "-2        580\n",
       " 2        372\n",
       "        ...  \n",
       " 35         1\n",
       " 36         1\n",
       "-50         1\n",
       " 101        1\n",
       "-65         1\n",
       "Name: NetBuyVolume, Length: 95, dtype: int64"
      ]
     },
     "execution_count": 40,
     "metadata": {},
     "output_type": "execute_result"
    }
   ],
   "source": [
    "data['NetBuyVolume'].value_counts()"
   ]
  },
  {
   "cell_type": "code",
   "execution_count": 41,
   "metadata": {
    "hide_input": true
   },
   "outputs": [
    {
     "data": {
      "text/plain": [
       "0.93"
      ]
     },
     "execution_count": 41,
     "metadata": {},
     "output_type": "execute_result"
    }
   ],
   "source": [
    "((data[data['NetBuyVolume'] ==0].count()[0])/len(data)).round(2)"
   ]
  },
  {
   "cell_type": "markdown",
   "metadata": {},
   "source": [
    "我们考虑直接删除这个特征"
   ]
  },
  {
   "cell_type": "markdown",
   "metadata": {},
   "source": [
    "# 3 特征工程"
   ]
  },
  {
   "cell_type": "markdown",
   "metadata": {},
   "source": [
    "目前所通过统计检验的特征列表"
   ]
  },
  {
   "cell_type": "code",
   "execution_count": 43,
   "metadata": {
    "hide_input": true
   },
   "outputs": [
    {
     "data": {
      "text/plain": [
       "['ExtraTA_DX',\n",
       " 'ExtraTA_CCI',\n",
       " 'ExtraTA_RSI',\n",
       " 'ExtraTA_CMO',\n",
       " 'ExtraTA_MINUS_DI',\n",
       " 'ExtraTA_ULTOSC',\n",
       " 'ExtraTA_ADX',\n",
       " 'ImbL1Std',\n",
       " 'ExtraTA_ADXR',\n",
       " 'ExtraTA_PLUS_DI',\n",
       " 'ImbL1Mean',\n",
       " 'ImbL1Skew',\n",
       " 'SpreadRatio',\n",
       " 'ExtraTA_TRIX']"
      ]
     },
     "execution_count": 43,
     "metadata": {},
     "output_type": "execute_result"
    }
   ],
   "source": [
    "features_index = []\n",
    "for i in range(len(features)):\n",
    "    features_index.append(features.index[i])\n",
    "features_index"
   ]
  },
  {
   "cell_type": "markdown",
   "metadata": {},
   "source": [
    "## 3.1Drop特征"
   ]
  },
  {
   "cell_type": "code",
   "execution_count": 44,
   "metadata": {
    "hide_input": true
   },
   "outputs": [],
   "source": [
    "#drop return\n",
    "data['ret'] = (np.log(data['ClosePrice']) - np.log(data['OpenPrice']))\n",
    "ret = data['ret']"
   ]
  },
  {
   "cell_type": "code",
   "execution_count": 45,
   "metadata": {
    "hide_input": true
   },
   "outputs": [
    {
     "data": {
      "text/html": [
       "<div>\n",
       "<style scoped>\n",
       "    .dataframe tbody tr th:only-of-type {\n",
       "        vertical-align: middle;\n",
       "    }\n",
       "\n",
       "    .dataframe tbody tr th {\n",
       "        vertical-align: top;\n",
       "    }\n",
       "\n",
       "    .dataframe thead th {\n",
       "        text-align: right;\n",
       "    }\n",
       "</style>\n",
       "<table border=\"1\" class=\"dataframe\">\n",
       "  <thead>\n",
       "    <tr style=\"text-align: right;\">\n",
       "      <th></th>\n",
       "      <th>ExtraTA_DX</th>\n",
       "      <th>ExtraTA_CCI</th>\n",
       "      <th>ExtraTA_RSI</th>\n",
       "      <th>ExtraTA_CMO</th>\n",
       "      <th>ExtraTA_MINUS_DI</th>\n",
       "      <th>ExtraTA_ULTOSC</th>\n",
       "      <th>ExtraTA_ADX</th>\n",
       "      <th>ImbL1Std</th>\n",
       "      <th>ExtraTA_ADXR</th>\n",
       "      <th>ExtraTA_PLUS_DI</th>\n",
       "      <th>ImbL1Mean</th>\n",
       "      <th>ImbL1Skew</th>\n",
       "      <th>SpreadRatio</th>\n",
       "      <th>ExtraTA_TRIX</th>\n",
       "    </tr>\n",
       "  </thead>\n",
       "  <tbody>\n",
       "    <tr>\n",
       "      <th>0</th>\n",
       "      <td>52.333390</td>\n",
       "      <td>-269.693252</td>\n",
       "      <td>34.489243</td>\n",
       "      <td>-31.021515</td>\n",
       "      <td>34.476637</td>\n",
       "      <td>49.822496</td>\n",
       "      <td>26.362721</td>\n",
       "      <td>0.463141</td>\n",
       "      <td>25.129539</td>\n",
       "      <td>10.788077</td>\n",
       "      <td>0.302821</td>\n",
       "      <td>-1.061269</td>\n",
       "      <td>0.000303</td>\n",
       "      <td>0.000385</td>\n",
       "    </tr>\n",
       "    <tr>\n",
       "      <th>1</th>\n",
       "      <td>52.333390</td>\n",
       "      <td>-196.680973</td>\n",
       "      <td>32.678001</td>\n",
       "      <td>-34.643998</td>\n",
       "      <td>32.617594</td>\n",
       "      <td>54.042877</td>\n",
       "      <td>28.217769</td>\n",
       "      <td>0.591307</td>\n",
       "      <td>25.700602</td>\n",
       "      <td>10.206365</td>\n",
       "      <td>0.108925</td>\n",
       "      <td>-0.176556</td>\n",
       "      <td>0.000285</td>\n",
       "      <td>0.000215</td>\n",
       "    </tr>\n",
       "    <tr>\n",
       "      <th>2</th>\n",
       "      <td>42.660921</td>\n",
       "      <td>-121.293673</td>\n",
       "      <td>39.519096</td>\n",
       "      <td>-20.961807</td>\n",
       "      <td>30.004103</td>\n",
       "      <td>58.700322</td>\n",
       "      <td>29.249423</td>\n",
       "      <td>0.507661</td>\n",
       "      <td>25.885430</td>\n",
       "      <td>12.059418</td>\n",
       "      <td>-0.215189</td>\n",
       "      <td>0.043417</td>\n",
       "      <td>0.000303</td>\n",
       "      <td>0.000035</td>\n",
       "    </tr>\n",
       "    <tr>\n",
       "      <th>3</th>\n",
       "      <td>33.530174</td>\n",
       "      <td>-69.529386</td>\n",
       "      <td>42.656754</td>\n",
       "      <td>-14.686491</td>\n",
       "      <td>28.371983</td>\n",
       "      <td>59.955703</td>\n",
       "      <td>29.555191</td>\n",
       "      <td>0.495547</td>\n",
       "      <td>26.445094</td>\n",
       "      <td>14.123255</td>\n",
       "      <td>-0.073479</td>\n",
       "      <td>0.612179</td>\n",
       "      <td>0.000290</td>\n",
       "      <td>-0.000145</td>\n",
       "    </tr>\n",
       "    <tr>\n",
       "      <th>4</th>\n",
       "      <td>24.919888</td>\n",
       "      <td>-45.151893</td>\n",
       "      <td>42.656754</td>\n",
       "      <td>-14.686491</td>\n",
       "      <td>26.801902</td>\n",
       "      <td>58.401328</td>\n",
       "      <td>29.224097</td>\n",
       "      <td>0.435589</td>\n",
       "      <td>26.338259</td>\n",
       "      <td>16.108643</td>\n",
       "      <td>-0.267480</td>\n",
       "      <td>0.167636</td>\n",
       "      <td>0.000280</td>\n",
       "      <td>-0.000322</td>\n",
       "    </tr>\n",
       "    <tr>\n",
       "      <th>...</th>\n",
       "      <td>...</td>\n",
       "      <td>...</td>\n",
       "      <td>...</td>\n",
       "      <td>...</td>\n",
       "      <td>...</td>\n",
       "      <td>...</td>\n",
       "      <td>...</td>\n",
       "      <td>...</td>\n",
       "      <td>...</td>\n",
       "      <td>...</td>\n",
       "      <td>...</td>\n",
       "      <td>...</td>\n",
       "      <td>...</td>\n",
       "      <td>...</td>\n",
       "    </tr>\n",
       "    <tr>\n",
       "      <th>74579</th>\n",
       "      <td>30.327977</td>\n",
       "      <td>-105.523810</td>\n",
       "      <td>39.184294</td>\n",
       "      <td>-21.631412</td>\n",
       "      <td>25.923760</td>\n",
       "      <td>29.780681</td>\n",
       "      <td>16.079120</td>\n",
       "      <td>0.327677</td>\n",
       "      <td>16.848201</td>\n",
       "      <td>13.858581</td>\n",
       "      <td>-0.419190</td>\n",
       "      <td>0.855608</td>\n",
       "      <td>0.000204</td>\n",
       "      <td>0.001158</td>\n",
       "    </tr>\n",
       "    <tr>\n",
       "      <th>74580</th>\n",
       "      <td>39.074420</td>\n",
       "      <td>-150.097466</td>\n",
       "      <td>35.997672</td>\n",
       "      <td>-28.004656</td>\n",
       "      <td>29.138669</td>\n",
       "      <td>28.534198</td>\n",
       "      <td>17.721641</td>\n",
       "      <td>0.477412</td>\n",
       "      <td>17.090044</td>\n",
       "      <td>12.765038</td>\n",
       "      <td>-0.243793</td>\n",
       "      <td>0.475218</td>\n",
       "      <td>0.000208</td>\n",
       "      <td>0.000946</td>\n",
       "    </tr>\n",
       "    <tr>\n",
       "      <th>74581</th>\n",
       "      <td>22.511578</td>\n",
       "      <td>-64.702484</td>\n",
       "      <td>47.493848</td>\n",
       "      <td>-5.012304</td>\n",
       "      <td>25.523779</td>\n",
       "      <td>43.682187</td>\n",
       "      <td>18.063780</td>\n",
       "      <td>0.473929</td>\n",
       "      <td>16.804181</td>\n",
       "      <td>16.143758</td>\n",
       "      <td>-0.197999</td>\n",
       "      <td>0.560964</td>\n",
       "      <td>0.000204</td>\n",
       "      <td>0.000747</td>\n",
       "    </tr>\n",
       "    <tr>\n",
       "      <th>74582</th>\n",
       "      <td>8.585065</td>\n",
       "      <td>38.547159</td>\n",
       "      <td>51.264752</td>\n",
       "      <td>2.529504</td>\n",
       "      <td>24.228971</td>\n",
       "      <td>48.084497</td>\n",
       "      <td>17.386729</td>\n",
       "      <td>0.693812</td>\n",
       "      <td>16.138814</td>\n",
       "      <td>20.397739</td>\n",
       "      <td>-0.096746</td>\n",
       "      <td>0.154316</td>\n",
       "      <td>0.000211</td>\n",
       "      <td>0.000572</td>\n",
       "    </tr>\n",
       "    <tr>\n",
       "      <th>74583</th>\n",
       "      <td>2.321973</td>\n",
       "      <td>58.223062</td>\n",
       "      <td>49.356083</td>\n",
       "      <td>-1.287835</td>\n",
       "      <td>22.973870</td>\n",
       "      <td>44.656413</td>\n",
       "      <td>16.310675</td>\n",
       "      <td>0.517603</td>\n",
       "      <td>15.297291</td>\n",
       "      <td>21.931187</td>\n",
       "      <td>-0.159290</td>\n",
       "      <td>0.114608</td>\n",
       "      <td>0.000204</td>\n",
       "      <td>0.000415</td>\n",
       "    </tr>\n",
       "  </tbody>\n",
       "</table>\n",
       "<p>74584 rows × 14 columns</p>\n",
       "</div>"
      ],
      "text/plain": [
       "       ExtraTA_DX  ExtraTA_CCI  ExtraTA_RSI  ExtraTA_CMO  ExtraTA_MINUS_DI  \\\n",
       "0       52.333390  -269.693252    34.489243   -31.021515         34.476637   \n",
       "1       52.333390  -196.680973    32.678001   -34.643998         32.617594   \n",
       "2       42.660921  -121.293673    39.519096   -20.961807         30.004103   \n",
       "3       33.530174   -69.529386    42.656754   -14.686491         28.371983   \n",
       "4       24.919888   -45.151893    42.656754   -14.686491         26.801902   \n",
       "...           ...          ...          ...          ...               ...   \n",
       "74579   30.327977  -105.523810    39.184294   -21.631412         25.923760   \n",
       "74580   39.074420  -150.097466    35.997672   -28.004656         29.138669   \n",
       "74581   22.511578   -64.702484    47.493848    -5.012304         25.523779   \n",
       "74582    8.585065    38.547159    51.264752     2.529504         24.228971   \n",
       "74583    2.321973    58.223062    49.356083    -1.287835         22.973870   \n",
       "\n",
       "       ExtraTA_ULTOSC  ExtraTA_ADX  ImbL1Std  ExtraTA_ADXR  ExtraTA_PLUS_DI  \\\n",
       "0           49.822496    26.362721  0.463141     25.129539        10.788077   \n",
       "1           54.042877    28.217769  0.591307     25.700602        10.206365   \n",
       "2           58.700322    29.249423  0.507661     25.885430        12.059418   \n",
       "3           59.955703    29.555191  0.495547     26.445094        14.123255   \n",
       "4           58.401328    29.224097  0.435589     26.338259        16.108643   \n",
       "...               ...          ...       ...           ...              ...   \n",
       "74579       29.780681    16.079120  0.327677     16.848201        13.858581   \n",
       "74580       28.534198    17.721641  0.477412     17.090044        12.765038   \n",
       "74581       43.682187    18.063780  0.473929     16.804181        16.143758   \n",
       "74582       48.084497    17.386729  0.693812     16.138814        20.397739   \n",
       "74583       44.656413    16.310675  0.517603     15.297291        21.931187   \n",
       "\n",
       "       ImbL1Mean  ImbL1Skew  SpreadRatio  ExtraTA_TRIX  \n",
       "0       0.302821  -1.061269     0.000303      0.000385  \n",
       "1       0.108925  -0.176556     0.000285      0.000215  \n",
       "2      -0.215189   0.043417     0.000303      0.000035  \n",
       "3      -0.073479   0.612179     0.000290     -0.000145  \n",
       "4      -0.267480   0.167636     0.000280     -0.000322  \n",
       "...          ...        ...          ...           ...  \n",
       "74579  -0.419190   0.855608     0.000204      0.001158  \n",
       "74580  -0.243793   0.475218     0.000208      0.000946  \n",
       "74581  -0.197999   0.560964     0.000204      0.000747  \n",
       "74582  -0.096746   0.154316     0.000211      0.000572  \n",
       "74583  -0.159290   0.114608     0.000204      0.000415  \n",
       "\n",
       "[74584 rows x 14 columns]"
      ]
     },
     "execution_count": 45,
     "metadata": {},
     "output_type": "execute_result"
    }
   ],
   "source": [
    "new_data = data.loc[100:,features_index].reset_index(drop=True)\n",
    "new_data"
   ]
  },
  {
   "cell_type": "markdown",
   "metadata": {},
   "source": [
    "最终我们选取14个特征进行建模"
   ]
  },
  {
   "cell_type": "markdown",
   "metadata": {},
   "source": [
    "# 4 建模"
   ]
  },
  {
   "cell_type": "markdown",
   "metadata": {},
   "source": [
    "## 4.1 划分训练集和测试集"
   ]
  },
  {
   "cell_type": "markdown",
   "metadata": {},
   "source": [
    "前80%数据为训练集，后20%数据为测试集"
   ]
  },
  {
   "cell_type": "code",
   "execution_count": 46,
   "metadata": {
    "hide_input": true
   },
   "outputs": [
    {
     "data": {
      "text/plain": [
       "59667.200000000004"
      ]
     },
     "execution_count": 46,
     "metadata": {},
     "output_type": "execute_result"
    }
   ],
   "source": [
    "l = 0.8*len(new_data)\n",
    "#l"
   ]
  },
  {
   "cell_type": "code",
   "execution_count": 47,
   "metadata": {
    "hide_input": true
   },
   "outputs": [],
   "source": [
    "y_train = ret.iloc[1:59667].reset_index(drop = True)\n",
    "y_test = ret.iloc[59767:74584].reset_index(drop = True)\n",
    "\n",
    "x_train = new_data.iloc[0:59666].reset_index(drop = True)\n",
    "x_test = new_data.iloc[59766:74583].reset_index(drop = True)"
   ]
  },
  {
   "cell_type": "markdown",
   "metadata": {},
   "source": [
    "## 4.2 随机森林"
   ]
  },
  {
   "cell_type": "code",
   "execution_count": 48,
   "metadata": {
    "hide_input": true
   },
   "outputs": [
    {
     "name": "stdout",
     "output_type": "stream",
     "text": [
      "Wall time: 5min 10s\n"
     ]
    },
    {
     "data": {
      "text/plain": [
       "RandomForestRegressor(random_state=1)"
      ]
     },
     "execution_count": 48,
     "metadata": {},
     "output_type": "execute_result"
    }
   ],
   "source": [
    "%%time\n",
    "from sklearn.ensemble import RandomForestRegressor\n",
    "regr = RandomForestRegressor()\n",
    "#regr_data = regr.fit(x_train,y_train)\n",
    "regr.fit(x_train,y_train)\n",
    "RandomForestRegressor(random_state=1)"
   ]
  },
  {
   "cell_type": "code",
   "execution_count": 49,
   "metadata": {
    "hide_input": true
   },
   "outputs": [
    {
     "data": {
      "image/png": "[encoded data removed]",
      "text/plain": [
       "<Figure size 648x432 with 1 Axes>"
      ]
     },
     "metadata": {
      "needs_background": "light"
     },
     "output_type": "display_data"
    }
   ],
   "source": [
    "from statlearning import plot_feature_importance\n",
    "plot_feature_importance(regr, x_train.columns)\n",
    "plt.show()"
   ]
  },
  {
   "cell_type": "code",
   "execution_count": 68,
   "metadata": {},
   "outputs": [
    {
     "name": "stdout",
     "output_type": "stream",
     "text": [
      "Fitting 2 folds for each of 32 candidates, totalling 64 fits\n",
      "Best parameters found by randomised search: {'n_estimators': 400, 'min_samples_split': 5, 'min_samples_leaf': 4, 'max_depth': 10} \n",
      "\n",
      "Wall time: 2h 36min 37s\n"
     ]
    }
   ],
   "source": [
    "%%time\n",
    "\n",
    "tuning_parameters = {\n",
    "     'max_depth': [10,20,40],\n",
    "     'min_samples_leaf': [2,4],\n",
    "     'min_samples_split': [2,5],\n",
    "     'n_estimators':  [200,400,600,800]\n",
    "      }\n",
    "\n",
    "rf_search = RandomizedSearchCV(regr, tuning_parameters, n_iter = 32, cv = 2, verbose=2, random_state=42, n_jobs = -1)\n",
    "# Fit the random search model\n",
    "rf_search.fit(x_train, y_train)\n",
    "\n",
    "rf = rf_search.best_estimator_\n",
    "\n",
    "print('Best parameters found by randomised search:', rf_search.best_params_, '\\n')\n"
   ]
  },
  {
   "cell_type": "markdown",
   "metadata": {},
   "source": [
    "## 4.3Optuna Hyperparam Search for XGBoost"
   ]
  },
  {
   "cell_type": "markdown",
   "metadata": {},
   "source": [
    "我们使用 PurgedGroupTimeSeriesSplit 进行时序交叉验证 并用Optuna贝叶斯超参数搜索"
   ]
  },
  {
   "cell_type": "code",
   "execution_count": 50,
   "metadata": {
    "hide_input": true
   },
   "outputs": [],
   "source": [
    "import xgboost as xgb\n",
    "import optuna\n",
    "from xgboost import XGBRegressor\n",
    "from sklearn.pipeline import Pipeline\n",
    "from sklearn.metrics import mean_squared_error\n",
    "#groups = x_train['Date'].values\n",
    "groups = x_train.index.values"
   ]
  },
  {
   "cell_type": "code",
   "execution_count": 51,
   "metadata": {},
   "outputs": [],
   "source": [
    "cv = PurgedGroupTimeSeriesSplit(\n",
    "    n_splits=5,\n",
    "    max_train_group_size=18000,\n",
    "    group_gap=2000,\n",
    "    max_test_group_size=6000\n",
    ")"
   ]
  },
  {
   "cell_type": "code",
   "execution_count": 52,
   "metadata": {},
   "outputs": [],
   "source": [
    "from sklearn.preprocessing import StandardScaler\n",
    "def objective(trial, cv=cv, cv_fold_func=np.average):\n",
    "\n",
    "    # Optuna suggest params\n",
    "    params = {\n",
    "        'n_estimators': trial.suggest_int('n_estimators', 350, 1000),\n",
    "        'max_depth': trial.suggest_int('max_depth', 3, 10),\n",
    "        'learning_rate': trial.suggest_uniform('learning_rate', 0.01, 0.10),\n",
    "        'subsample': trial.suggest_uniform('subsample', 0.50, 0.90),\n",
    "        'colsample_bytree': trial.suggest_uniform('colsample_bytree', 0.50, 0.90),\n",
    "        #'gamma': trial.suggest_int('gamma', 0, 20),\n",
    "        #'missing': -999,\n",
    "        #'tree_method': 'gpu_hist'  \n",
    "    }\n",
    "    \n",
    "    # setup the pieline\n",
    "    scaler = StandardScaler()\n",
    "    clf = xgb.XGBRegressor(**params)\n",
    "\n",
    "    pipe = Pipeline(steps=[\n",
    "        ('scaler', scaler),\n",
    "        ('xgb', clf)\n",
    "    ])\n",
    "\n",
    "\n",
    "    # fit for all folds and return composite RMSE score\n",
    "    rmses = []\n",
    "    for i, (train_idx, valid_idx) in enumerate(cv.split(\n",
    "        x_train,\n",
    "        y_train,\n",
    "        groups=groups)):\n",
    "        \n",
    "        train_data = x_train.iloc[train_idx, :], y_train.iloc[train_idx]\n",
    "        valid_data = x_train.iloc[valid_idx, :], y_train.iloc[valid_idx]\n",
    "        \n",
    "        _ = pipe.fit(x_train.iloc[train_idx, :], y_train.iloc[train_idx])\n",
    "        preds = pipe.predict(x_train.iloc[valid_idx, :])\n",
    "        \n",
    "        rmse = np.sqrt(mean_squared_error(y_train.iloc[valid_idx], preds))\n",
    "        rmses.append(rmse)\n",
    "    \n",
    "    print(f'Trial done: RMSE values on folds: {rmses}')\n",
    "    return cv_fold_func(rmses)"
   ]
  },
  {
   "cell_type": "code",
   "execution_count": 53,
   "metadata": {},
   "outputs": [
    {
     "data": {
      "text/plain": [
       "4286"
      ]
     },
     "execution_count": 53,
     "metadata": {},
     "output_type": "execute_result"
    }
   ],
   "source": [
    "gc.collect()"
   ]
  },
  {
   "cell_type": "code",
   "execution_count": 54,
   "metadata": {},
   "outputs": [
    {
     "data": {
      "text/plain": [
       "{'divide': 'warn', 'over': 'warn', 'under': 'ignore', 'invalid': 'warn'}"
      ]
     },
     "execution_count": 54,
     "metadata": {},
     "output_type": "execute_result"
    }
   ],
   "source": [
    "np.seterr(over='ignore')"
   ]
  },
  {
   "cell_type": "code",
   "execution_count": 55,
   "metadata": {},
   "outputs": [
    {
     "name": "stderr",
     "output_type": "stream",
     "text": [
      "\u001b[32m[I 2021-01-20 16:03:44,010]\u001b[0m A new study created in memory with name: no-name-90a87607-c114-40f3-b0ce-e5ba6667156e\u001b[0m\n",
      "\u001b[32m[I 2021-01-20 16:05:12,282]\u001b[0m Trial 0 finished with value: 0.0009786980415873298 and parameters: {'n_estimators': 440, 'max_depth': 6, 'learning_rate': 0.06795142023558212, 'subsample': 0.5397141354370172, 'colsample_bytree': 0.7775297120498248}. Best is trial 0 with value: 0.0009786980415873298.\u001b[0m\n"
     ]
    },
    {
     "name": "stdout",
     "output_type": "stream",
     "text": [
      "Trial done: RMSE values on folds: [0.001012557391935077, 0.001257523530473936, 0.000824920109273821, 0.0009228519223120885, 0.0008756372539417266]\n"
     ]
    },
    {
     "name": "stderr",
     "output_type": "stream",
     "text": [
      "\u001b[32m[I 2021-01-20 16:06:11,794]\u001b[0m Trial 1 finished with value: 0.0012149995346457934 and parameters: {'n_estimators': 448, 'max_depth': 10, 'learning_rate': 0.014424603595575219, 'subsample': 0.7101340239069679, 'colsample_bytree': 0.5383352191101983}. Best is trial 0 with value: 0.0009786980415873298.\u001b[0m\n"
     ]
    },
    {
     "name": "stdout",
     "output_type": "stream",
     "text": [
      "Trial done: RMSE values on folds: [0.0012318217391262092, 0.0014538200106987216, 0.001096764723821894, 0.0011836450487485624, 0.0011089461508335793]\n"
     ]
    },
    {
     "name": "stderr",
     "output_type": "stream",
     "text": [
      "\u001b[32m[I 2021-01-20 16:08:42,622]\u001b[0m Trial 2 finished with value: 0.000993692050469701 and parameters: {'n_estimators': 948, 'max_depth': 6, 'learning_rate': 0.08296783571863395, 'subsample': 0.6646363643628861, 'colsample_bytree': 0.7501598825735343}. Best is trial 0 with value: 0.0009786980415873298.\u001b[0m\n"
     ]
    },
    {
     "name": "stdout",
     "output_type": "stream",
     "text": [
      "Trial done: RMSE values on folds: [0.0010055194012509403, 0.0012742522170562942, 0.0008528171114720609, 0.0009376778056792557, 0.0008981937168899539]\n"
     ]
    },
    {
     "name": "stderr",
     "output_type": "stream",
     "text": [
      "\u001b[32m[I 2021-01-20 16:10:42,503]\u001b[0m Trial 3 finished with value: 0.0009855123316151642 and parameters: {'n_estimators': 869, 'max_depth': 9, 'learning_rate': 0.07969768901074256, 'subsample': 0.6104947917512549, 'colsample_bytree': 0.6344667777062928}. Best is trial 0 with value: 0.0009786980415873298.\u001b[0m\n"
     ]
    },
    {
     "name": "stdout",
     "output_type": "stream",
     "text": [
      "Trial done: RMSE values on folds: [0.0010117329973823492, 0.0012516779651356418, 0.0008458991702006007, 0.0009368727132334217, 0.0008813788121238067]\n"
     ]
    },
    {
     "name": "stderr",
     "output_type": "stream",
     "text": [
      "\u001b[32m[I 2021-01-20 16:12:59,179]\u001b[0m Trial 4 finished with value: 0.000975741408052493 and parameters: {'n_estimators': 960, 'max_depth': 3, 'learning_rate': 0.08793632075930627, 'subsample': 0.6035950907009904, 'colsample_bytree': 0.8433116766431166}. Best is trial 4 with value: 0.000975741408052493.\u001b[0m\n"
     ]
    },
    {
     "name": "stdout",
     "output_type": "stream",
     "text": [
      "Trial done: RMSE values on folds: [0.0010066362880782609, 0.0012655708706650404, 0.0008234574467151898, 0.000915127127089387, 0.0008679153077145865]\n"
     ]
    },
    {
     "name": "stderr",
     "output_type": "stream",
     "text": [
      "\u001b[32m[I 2021-01-20 16:15:02,689]\u001b[0m Trial 5 finished with value: 0.0009476697266851393 and parameters: {'n_estimators': 931, 'max_depth': 6, 'learning_rate': 0.01870129442778689, 'subsample': 0.7184632501842652, 'colsample_bytree': 0.556953869982122}. Best is trial 5 with value: 0.0009476697266851393.\u001b[0m\n"
     ]
    },
    {
     "name": "stdout",
     "output_type": "stream",
     "text": [
      "Trial done: RMSE values on folds: [0.0009991034765029136, 0.001227087503859945, 0.0007971611656332517, 0.0008972633475475404, 0.000817733139882045]\n"
     ]
    },
    {
     "name": "stderr",
     "output_type": "stream",
     "text": [
      "\u001b[32m[I 2021-01-20 16:17:37,787]\u001b[0m Trial 6 finished with value: 0.0009779379170799314 and parameters: {'n_estimators': 853, 'max_depth': 9, 'learning_rate': 0.06392563649905735, 'subsample': 0.6620748405448702, 'colsample_bytree': 0.7453861443262125}. Best is trial 5 with value: 0.0009476697266851393.\u001b[0m\n"
     ]
    },
    {
     "name": "stdout",
     "output_type": "stream",
     "text": [
      "Trial done: RMSE values on folds: [0.0010071863849507004, 0.0012573399430670959, 0.0008319437131461058, 0.0009297687642639192, 0.0008634507799718363]\n"
     ]
    },
    {
     "name": "stderr",
     "output_type": "stream",
     "text": [
      "\u001b[32m[I 2021-01-20 16:19:52,577]\u001b[0m Trial 7 finished with value: 0.0009522747708421285 and parameters: {'n_estimators': 952, 'max_depth': 4, 'learning_rate': 0.028312834293486557, 'subsample': 0.6092159032307302, 'colsample_bytree': 0.7218368600649944}. Best is trial 5 with value: 0.0009476697266851393.\u001b[0m\n"
     ]
    },
    {
     "name": "stdout",
     "output_type": "stream",
     "text": [
      "Trial done: RMSE values on folds: [0.0010015729639458832, 0.001233577331293521, 0.000797977394236036, 0.0009001374707119057, 0.0008281086940232963]\n"
     ]
    },
    {
     "name": "stderr",
     "output_type": "stream",
     "text": [
      "\u001b[32m[I 2021-01-20 16:21:51,554]\u001b[0m Trial 8 finished with value: 0.0009541440333525429 and parameters: {'n_estimators': 618, 'max_depth': 8, 'learning_rate': 0.025017117505578647, 'subsample': 0.7213177647687339, 'colsample_bytree': 0.705889884238907}. Best is trial 5 with value: 0.0009476697266851393.\u001b[0m\n"
     ]
    },
    {
     "name": "stdout",
     "output_type": "stream",
     "text": [
      "Trial done: RMSE values on folds: [0.000998314965894266, 0.0012307397095882874, 0.0008043109017476022, 0.0009088000615620312, 0.000828554527970528]\n"
     ]
    },
    {
     "name": "stderr",
     "output_type": "stream",
     "text": [
      "\u001b[32m[I 2021-01-20 16:23:51,820]\u001b[0m Trial 9 finished with value: 0.0009495700067185291 and parameters: {'n_estimators': 732, 'max_depth': 6, 'learning_rate': 0.02405654555417836, 'subsample': 0.7968426583499006, 'colsample_bytree': 0.5912351345846654}. Best is trial 5 with value: 0.0009476697266851393.\u001b[0m\n"
     ]
    },
    {
     "name": "stdout",
     "output_type": "stream",
     "text": [
      "Trial done: RMSE values on folds: [0.0009986674361362577, 0.0012290359941116073, 0.0008006438311256989, 0.0008976285167237515, 0.0008218742554953301]\n",
      "Number of finished trials: 10\n",
      "Best trial:\n",
      "  Value: 0.0009476697266851393\n",
      "  Params: \n",
      " n_estimators: 931\n",
      " max_depth: 6\n",
      " learning_rate: 0.01870129442778689\n",
      " subsample: 0.7184632501842652\n",
      " colsample_bytree: 0.556953869982122\n",
      "Wall time: 20min 7s\n"
     ]
    }
   ],
   "source": [
    "%%time\n",
    "\n",
    "FIT_XGB = True\n",
    "\n",
    "n_trials = 10\n",
    "\n",
    "if FIT_XGB:\n",
    "    study = optuna.create_study(direction=\"minimize\")\n",
    "    study.optimize(objective, n_trials=n_trials)\n",
    "\n",
    "    print(\"Number of finished trials: {}\".format(len(study.trials)))\n",
    "\n",
    "    print(\"Best trial:\")\n",
    "    trial = study.best_trial\n",
    "\n",
    "    print(\"  Value: {}\".format(trial.value))\n",
    "\n",
    "    print(\"  Params: \")\n",
    "    for key, value in trial.params.items():\n",
    "        print(\" {}: {}\".format(key, value))"
   ]
  },
  {
   "cell_type": "code",
   "execution_count": 56,
   "metadata": {},
   "outputs": [],
   "source": [
    "best_params = trial.params\n",
    "\n",
    "#best_params['missing'] = -999\n",
    "#best_params['tree_method'] = 'gpu_hist' "
   ]
  },
  {
   "cell_type": "code",
   "execution_count": 57,
   "metadata": {},
   "outputs": [
    {
     "data": {
      "text/plain": [
       "{'n_estimators': 931,\n",
       " 'max_depth': 6,\n",
       " 'learning_rate': 0.01870129442778689,\n",
       " 'subsample': 0.7184632501842652,\n",
       " 'colsample_bytree': 0.556953869982122}"
      ]
     },
     "execution_count": 57,
     "metadata": {},
     "output_type": "execute_result"
    }
   ],
   "source": [
    "best_params"
   ]
  },
  {
   "cell_type": "code",
   "execution_count": 59,
   "metadata": {
    "hide_input": true,
    "lines_to_next_cell": 0
   },
   "outputs": [
    {
     "data": {
      "image/png": "[encoded data removed]",
      "text/plain": [
       "<Figure size 432x288 with 1 Axes>"
      ]
     },
     "metadata": {
      "needs_background": "light"
     },
     "output_type": "display_data"
    }
   ],
   "source": [
    "fig, ax = plt.subplots()\n",
    "\n",
    "cv = PurgedGroupTimeSeriesSplit(\n",
    "    n_splits=5,\n",
    "    max_train_group_size=18000,\n",
    "    group_gap=2000,\n",
    "    max_test_group_size=6000\n",
    ")\n",
    "\n",
    "plot_cv_indices(\n",
    "    cv,\n",
    "    x_train,y_train,\n",
    "    x_train.index.values,\n",
    "    ax,\n",
    "    5,\n",
    "    lw=20\n",
    ");"
   ]
  },
  {
   "cell_type": "code",
   "execution_count": 60,
   "metadata": {},
   "outputs": [
    {
     "data": {
      "text/plain": [
       "2931"
      ]
     },
     "execution_count": 60,
     "metadata": {},
     "output_type": "execute_result"
    }
   ],
   "source": [
    "##Fit the XGBoost Classifier with Optimal Hyperparams\n",
    "scaler = StandardScaler()\n",
    "\n",
    "clf = xgb.XGBRegressor(**best_params)\n",
    "\n",
    "pipe_xgb = Pipeline(steps=[\n",
    "    ('scaler', scaler),\n",
    "    ('xgb', clf)\n",
    "])\n",
    "\n",
    "pipe_xgb.fit(x_train,y_train)\n",
    "\n",
    "gc.collect()"
   ]
  },
  {
   "cell_type": "markdown",
   "metadata": {},
   "source": [
    "## 4.4 XGboost Random search"
   ]
  },
  {
   "cell_type": "code",
   "execution_count": 61,
   "metadata": {},
   "outputs": [
    {
     "name": "stdout",
     "output_type": "stream",
     "text": [
      "Wall time: 6.26 s\n"
     ]
    },
    {
     "data": {
      "text/plain": [
       "XGBRegressor(base_score=0.5, booster=None, colsample_bylevel=1,\n",
       "             colsample_bynode=1, colsample_bytree=1, gamma=0, gpu_id=-1,\n",
       "             importance_type='gain', interaction_constraints=None,\n",
       "             learning_rate=0.300000012, max_delta_step=0, max_depth=6,\n",
       "             min_child_weight=1, missing=nan, monotone_constraints=None,\n",
       "             n_estimators=100, n_jobs=0, num_parallel_tree=1, random_state=1,\n",
       "             reg_alpha=0, reg_lambda=0, scale_pos_weight=1, subsample=1,\n",
       "             tree_method=None, validate_parameters=False, verbosity=None)"
      ]
     },
     "execution_count": 61,
     "metadata": {},
     "output_type": "execute_result"
    }
   ],
   "source": [
    "%%time\n",
    "xbst = xgb.XGBRegressor(reg_lambda=0,objective='reg:squarederror', random_state=1)\n",
    "xbst.fit(x_train,y_train)"
   ]
  },
  {
   "cell_type": "markdown",
   "metadata": {},
   "source": [
    "## 4.5 模型评估"
   ]
  },
  {
   "cell_type": "code",
   "execution_count": 70,
   "metadata": {
    "hide_input": false
   },
   "outputs": [
    {
     "data": {
      "text/html": [
       "<div>\n",
       "<style scoped>\n",
       "    .dataframe tbody tr th:only-of-type {\n",
       "        vertical-align: middle;\n",
       "    }\n",
       "\n",
       "    .dataframe tbody tr th {\n",
       "        vertical-align: top;\n",
       "    }\n",
       "\n",
       "    .dataframe thead th {\n",
       "        text-align: right;\n",
       "    }\n",
       "</style>\n",
       "<table border=\"1\" class=\"dataframe\">\n",
       "  <thead>\n",
       "    <tr style=\"text-align: right;\">\n",
       "      <th></th>\n",
       "      <th>Train RMSE*10^3</th>\n",
       "      <th>Test RMSE*10^3</th>\n",
       "      <th>Train MAE*10^3</th>\n",
       "      <th>Test MAE*10^3</th>\n",
       "      <th>Train R^2</th>\n",
       "      <th>Test R^2</th>\n",
       "    </tr>\n",
       "  </thead>\n",
       "  <tbody>\n",
       "    <tr>\n",
       "      <th>OLS</th>\n",
       "      <td>0.816936</td>\n",
       "      <td>0.686213</td>\n",
       "      <td>0.498409</td>\n",
       "      <td>0.450002</td>\n",
       "      <td>0.000413</td>\n",
       "      <td>0.000186</td>\n",
       "    </tr>\n",
       "    <tr>\n",
       "      <th>Random Forest</th>\n",
       "      <td>0.795855</td>\n",
       "      <td>0.686903</td>\n",
       "      <td>0.489184</td>\n",
       "      <td>0.450975</td>\n",
       "      <td>0.051337</td>\n",
       "      <td>-0.001825</td>\n",
       "    </tr>\n",
       "    <tr>\n",
       "      <th>XGBoost(Bayes)</th>\n",
       "      <td>0.762983</td>\n",
       "      <td>0.688649</td>\n",
       "      <td>0.479568</td>\n",
       "      <td>0.454802</td>\n",
       "      <td>0.128086</td>\n",
       "      <td>-0.006923</td>\n",
       "    </tr>\n",
       "    <tr>\n",
       "      <th>XGBoost</th>\n",
       "      <td>0.770085</td>\n",
       "      <td>0.695598</td>\n",
       "      <td>0.485569</td>\n",
       "      <td>0.458625</td>\n",
       "      <td>0.111779</td>\n",
       "      <td>-0.027347</td>\n",
       "    </tr>\n",
       "  </tbody>\n",
       "</table>\n",
       "</div>"
      ],
      "text/plain": [
       "                Train RMSE*10^3  Test RMSE*10^3  Train MAE*10^3  \\\n",
       "OLS                    0.816936        0.686213        0.498409   \n",
       "Random Forest          0.795855        0.686903        0.489184   \n",
       "XGBoost(Bayes)         0.762983        0.688649        0.479568   \n",
       "XGBoost                0.770085        0.695598        0.485569   \n",
       "\n",
       "                Test MAE*10^3  Train R^2  Test R^2  \n",
       "OLS                  0.450002   0.000413  0.000186  \n",
       "Random Forest        0.450975   0.051337 -0.001825  \n",
       "XGBoost(Bayes)       0.454802   0.128086 -0.006923  \n",
       "XGBoost              0.458625   0.111779 -0.027347  "
      ]
     },
     "execution_count": 70,
     "metadata": {},
     "output_type": "execute_result"
    }
   ],
   "source": [
    "from sklearn.linear_model import LinearRegression\n",
    "ols = LinearRegression()\n",
    "ols.fit(x_train, y_train)\n",
    "\n",
    "from sklearn.metrics import mean_squared_error, r2_score,  mean_absolute_error\n",
    "\n",
    "# Initialise table\n",
    "columns=['Train RMSE*10^3', 'Test RMSE*10^3','Train MAE*10^3','Test MAE*10^3','Train R^2','Test R^2']\n",
    "rows=['OLS', 'Random Forest', 'XGBoost(Bayes)', 'XGBoost']\n",
    "results =pd.DataFrame(0.0, columns=columns, index=rows)\n",
    "\n",
    "# List algorithms\n",
    "methods = [ols, rf, pipe_xgb, xbst] \n",
    "\n",
    "# Computer test predictions and metrics\n",
    "for i, method in enumerate(methods):\n",
    "    y_pred_train = method.predict(x_train)\n",
    "    y_pred_test = method.predict(x_test)\n",
    "    \n",
    "    results.iloc[i, 0] = np.sqrt(mean_squared_error(y_train,y_pred_train))*1000\n",
    "    results.iloc[i, 1] = np.sqrt(mean_squared_error(y_test,y_pred_test))*1000\n",
    "    results.iloc[i, 2] = mean_absolute_error(y_train, y_pred_train)*1000\n",
    "    results.iloc[i, 3] = mean_absolute_error(y_test, y_pred_test)*1000\n",
    "    results.iloc[i, 4] = r2_score(y_train, y_pred_train)\n",
    "    results.iloc[i, 5] = r2_score(y_test, y_pred_test) \n",
    "    \n",
    "results.round(6)"
   ]
  },
  {
   "cell_type": "markdown",
   "metadata": {},
   "source": [
    "# 5 固定金额回测"
   ]
  },
  {
   "cell_type": "markdown",
   "metadata": {},
   "source": [
    "## 5.1模型预测"
   ]
  },
  {
   "cell_type": "code",
   "execution_count": 71,
   "metadata": {
    "hide_input": false
   },
   "outputs": [],
   "source": [
    "#OLS\n",
    "predict_ols = pd.Series(ols.predict(x_test))\n",
    "#Random Forest\n",
    "predict_rf = pd.Series(rf.predict(x_test))\n",
    "# Optuna+Purged XGbosst \n",
    "pipe_prod = pipe_xgb\n",
    "predict_xgbt = pd.Series(pipe_prod.predict(x_test))\n",
    "# Random search XGboost\n",
    "predict_xg = pd.Series(xbst.predict(x_test))\n",
    "# Neural Network"
   ]
  },
  {
   "cell_type": "markdown",
   "metadata": {},
   "source": [
    "## 5.2 回测"
   ]
  },
  {
   "cell_type": "code",
   "execution_count": 65,
   "metadata": {
    "hide_input": false
   },
   "outputs": [
    {
     "data": {
      "text/plain": [
       "0        5156.5\n",
       "1        5159.5\n",
       "2        5152.5\n",
       "3        5156.5\n",
       "4        5157.5\n",
       "          ...  \n",
       "14812    4883.5\n",
       "14813    4889.5\n",
       "14814    4887.5\n",
       "14815    4906.5\n",
       "14816    4911.5\n",
       "Name: OpenPrice, Length: 14817, dtype: float64"
      ]
     },
     "execution_count": 65,
     "metadata": {},
     "output_type": "execute_result"
    }
   ],
   "source": [
    "open_price = data['OpenPrice']\n",
    "open_price_test = open_price.iloc[59767:74584].reset_index(drop=True)\n",
    "#open_price_test"
   ]
  },
  {
   "cell_type": "code",
   "execution_count": 66,
   "metadata": {},
   "outputs": [],
   "source": [
    "from collections import OrderedDict\n",
    "def get_daily_pnl(testx,testy, period=5, tranct_ratio=False,threshold=0.001, tranct=1.1e-4, noise=0, notional=False,invest = 100):\n",
    "    n_bar = len(testx)\n",
    "    price = open_price_test#pd.Series(testx['ClosePrice'].astype('int64')).reset_index(drop=True)\n",
    "    \n",
    "    #过去5分钟收益率（滚动）\n",
    "    ret_5 = (testy.rolling(period).sum()).dropna().reset_index(drop=True)\n",
    "    ret_5 = ret_5.append(pd.Series([0]*(len(testy)-len(ret_5)))).reset_index(drop=True) \n",
    "    #ret_5 = testy\n",
    "    \n",
    "    #交易信号 过去5分钟收益大于阈值买入，过去5分钟收益小于负阈值卖出\n",
    "    signal = pd.Series([0] * n_bar)\n",
    "    signal[(ret_5>threshold)] = 1\n",
    "    signal[(ret_5< -threshold)] = -1\n",
    "   \n",
    "    #买仓\n",
    "    position_pos = pd.Series([np.nan] * n_bar)\n",
    "    position_pos[0] = 0 \n",
    "    position_pos[(signal==1)] = 1\n",
    "    position_pos[(ret_5< -threshold)] = 0\n",
    "    position_pos.ffill(inplace=True)\n",
    "    \n",
    "    pre_pos = position_pos.shift(1)#前一分钟持仓情况\n",
    "    position_pos[(position_pos==1) & (pre_pos==1)] = np.nan #如果前一分钟持有，并且交易信号是1，不执行交易\n",
    "    position_pos[(position_pos==1)] = invest/price[(position_pos==1)]\n",
    "    position_pos.ffill(inplace=True)\n",
    "        \n",
    "    #卖仓\n",
    "    position_neg = pd.Series([np.nan] * n_bar)\n",
    "    position_neg[0] = 0\n",
    "    position_neg[(signal==-1)] = -1\n",
    "    position_neg[(ret_5> threshold)] = 0\n",
    "    position_neg.ffill(inplace=True)\n",
    "    \n",
    "    pre_neg = position_neg.shift(1)\n",
    "    position_neg[(position_neg==-1) & (pre_neg==-1)] = np.nan\n",
    "    position_neg[(position_neg==-1)] = -invest/price[(position_neg==-1)]\n",
    "    position_neg.ffill(inplace=True)\n",
    "    \n",
    "    #持仓\n",
    "    position = position_pos + position_neg\n",
    "    position[0]=0\n",
    "    position[n_bar-1] = 0 #交易结束前平仓\n",
    "    position[n_bar-2] = 0\n",
    "    change_pos = position - position.shift(1)\n",
    "    change_pos[0] = 0\n",
    "    change_base = pd.Series([0] * n_bar)\n",
    "    change_buy = change_pos>0\n",
    "    change_sell = change_pos<0\n",
    "\n",
    "    if (tranct_ratio):\n",
    "        change_base[change_buy] = price[change_buy]*(1+tranct)\n",
    "        change_base[change_sell] = price[change_sell]*(1-tranct)\n",
    "    else:\n",
    "        change_base[change_buy] = price[change_buy]+tranct\n",
    "        change_base[change_sell] = price[change_sell]-tranct\n",
    "    \n",
    "    final_pnl = -sum(change_base*change_pos)\n",
    "    pln_invest = final_pnl/invest\n",
    "    turnover = sum(change_base*abs(change_pos))\n",
    "    num = sum((position!=0) & (change_pos!=0))\n",
    "    hld_period = sum(position!=0)\n",
    "  \n",
    "    ## finally we combine the statistics into a data frame\n",
    "    #result = pd.DataFrame({\"final.pnl\": final_pnl, \"turnover\": turnover, \"num\": num, \"hld.period\": hld_period}, index=[0])\n",
    "    #result = {\"date\": date, \"final.pnl\": final_pnl, \"turnover\": turnover, \"num\": num, \"hld.period\": hld_period}\n",
    "    result = OrderedDict([ (\"pln/invest\", pln_invest),(\"final.pnl\", final_pnl), (\"turnover\", turnover), (\"num\", num), (\"hld.period\", hld_period)])\n",
    "    return result"
   ]
  },
  {
   "cell_type": "markdown",
   "metadata": {},
   "source": [
    "## 5.3 回测结果"
   ]
  },
  {
   "cell_type": "code",
   "execution_count": 72,
   "metadata": {
    "hide_input": false,
    "lines_to_next_cell": 0
   },
   "outputs": [
    {
     "data": {
      "text/html": [
       "<div>\n",
       "<style scoped>\n",
       "    .dataframe tbody tr th:only-of-type {\n",
       "        vertical-align: middle;\n",
       "    }\n",
       "\n",
       "    .dataframe tbody tr th {\n",
       "        vertical-align: top;\n",
       "    }\n",
       "\n",
       "    .dataframe thead th {\n",
       "        text-align: right;\n",
       "    }\n",
       "</style>\n",
       "<table border=\"1\" class=\"dataframe\">\n",
       "  <thead>\n",
       "    <tr style=\"text-align: right;\">\n",
       "      <th></th>\n",
       "      <th>pln/invest</th>\n",
       "      <th>final.pnl</th>\n",
       "      <th>turnover</th>\n",
       "      <th>num</th>\n",
       "      <th>hld.period</th>\n",
       "    </tr>\n",
       "  </thead>\n",
       "  <tbody>\n",
       "    <tr>\n",
       "      <th>OLS</th>\n",
       "      <td>-0.000000</td>\n",
       "      <td>-0.000000</td>\n",
       "      <td>0.000000</td>\n",
       "      <td>0.0</td>\n",
       "      <td>0.0</td>\n",
       "    </tr>\n",
       "    <tr>\n",
       "      <th>Random Forest</th>\n",
       "      <td>0.155529</td>\n",
       "      <td>15.552858</td>\n",
       "      <td>1994.156714</td>\n",
       "      <td>10.0</td>\n",
       "      <td>14182.0</td>\n",
       "    </tr>\n",
       "    <tr>\n",
       "      <th>XGBoost(Bayes)</th>\n",
       "      <td>0.174424</td>\n",
       "      <td>17.442433</td>\n",
       "      <td>9995.643346</td>\n",
       "      <td>50.0</td>\n",
       "      <td>14765.0</td>\n",
       "    </tr>\n",
       "    <tr>\n",
       "      <th>XGBoost</th>\n",
       "      <td>0.230773</td>\n",
       "      <td>23.077322</td>\n",
       "      <td>15196.720426</td>\n",
       "      <td>76.0</td>\n",
       "      <td>14440.0</td>\n",
       "    </tr>\n",
       "  </tbody>\n",
       "</table>\n",
       "</div>"
      ],
      "text/plain": [
       "                pln/invest  final.pnl      turnover   num  hld.period\n",
       "OLS              -0.000000  -0.000000      0.000000   0.0         0.0\n",
       "Random Forest     0.155529  15.552858   1994.156714  10.0     14182.0\n",
       "XGBoost(Bayes)    0.174424  17.442433   9995.643346  50.0     14765.0\n",
       "XGBoost           0.230773  23.077322  15196.720426  76.0     14440.0"
      ]
     },
     "execution_count": 72,
     "metadata": {},
     "output_type": "execute_result"
    }
   ],
   "source": [
    "# Initialise table\n",
    "columns=['pln/invest', 'final.pnl', 'turnover','num','hld.period']\n",
    "rows=['OLS', 'Random Forest', 'XGBoost(Bayes)', 'XGBoost']\n",
    "results =pd.DataFrame(0.0, columns=columns, index=rows)\n",
    "\n",
    "# List algorithms\n",
    "preds = [predict_ols, predict_rf, predict_xgbt, predict_xg] \n",
    "# Compute test predictions and metrics\n",
    "for i in range(len(preds)):\n",
    "    results.loc[rows[i]] = pd.DataFrame(get_daily_pnl(x_test,testy = preds[i], period=5, tranct_ratio=True, \n",
    "                                               threshold= 0.0005, tranct=0.00015, notional=True, invest = 100),index=[rows[i]]).iloc[0,:]\n",
    "    \n",
    "results"
   ]
  },
  {
   "cell_type": "code",
   "execution_count": null,
   "metadata": {},
   "outputs": [],
   "source": []
  }
 ],
 "metadata": {
  "jupytext": {
   "encoding": "# -*- coding: utf-8 -*-",
   "formats": "ipynb,py:light"
  },
  "kernelspec": {
   "display_name": "Python 3",
   "language": "python",
   "name": "python3"
  },
  "language_info": {
   "codemirror_mode": {
    "name": "ipython",
    "version": 3
   },
   "file_extension": ".py",
   "mimetype": "text/x-python",
   "name": "python",
   "nbconvert_exporter": "python",
   "pygments_lexer": "ipython3",
   "version": "3.7.7"
  }
 },
 "nbformat": 4,
 "nbformat_minor": 4
}
